{
 "cells": [
  {
   "cell_type": "markdown",
   "id": "3e3e8fbe",
   "metadata": {},
   "source": [
    "# <p style=\"padding:10px;background-color:#232323;margin:0;color:white;font-family:newtimeroman;font-size:150%;text-align:center;border-radius: 15px 50px;overflow:hidden;font-weight:500\">Machine_Learning</p>\n"
   ]
  },
  {
   "cell_type": "markdown",
   "id": "80976a6c",
   "metadata": {},
   "source": [
    "### Importing Data And Preproccessing"
   ]
  },
  {
   "cell_type": "code",
   "execution_count": 1,
   "id": "ef5fa0ac",
   "metadata": {},
   "outputs": [
    {
     "data": {
      "text/plain": [
       "'C:\\\\Users\\\\dennis\\\\Desktop\\\\python'"
      ]
     },
     "execution_count": 1,
     "metadata": {},
     "output_type": "execute_result"
    }
   ],
   "source": [
    "pwd"
   ]
  },
  {
   "cell_type": "code",
   "execution_count": 2,
   "id": "ae79f264",
   "metadata": {},
   "outputs": [],
   "source": [
    "import numpy as np\n",
    "import pandas as pd\n",
    "import seaborn as sns"
   ]
  },
  {
   "cell_type": "code",
   "execution_count": 3,
   "id": "cbaba60a",
   "metadata": {},
   "outputs": [],
   "source": [
    "df=pd.read_csv('Classification+preprocessed+data+Python.csv',header=0)"
   ]
  },
  {
   "cell_type": "code",
   "execution_count": 4,
   "id": "d70f0582",
   "metadata": {},
   "outputs": [
    {
     "data": {
      "text/html": [
       "<div>\n",
       "<style scoped>\n",
       "    .dataframe tbody tr th:only-of-type {\n",
       "        vertical-align: middle;\n",
       "    }\n",
       "\n",
       "    .dataframe tbody tr th {\n",
       "        vertical-align: top;\n",
       "    }\n",
       "\n",
       "    .dataframe thead th {\n",
       "        text-align: right;\n",
       "    }\n",
       "</style>\n",
       "<table border=\"1\" class=\"dataframe\">\n",
       "  <thead>\n",
       "    <tr style=\"text-align: right;\">\n",
       "      <th></th>\n",
       "      <th>price</th>\n",
       "      <th>resid_area</th>\n",
       "      <th>air_qual</th>\n",
       "      <th>room_num</th>\n",
       "      <th>age</th>\n",
       "      <th>teachers</th>\n",
       "      <th>poor_prop</th>\n",
       "      <th>n_hos_beds</th>\n",
       "      <th>n_hot_rooms</th>\n",
       "      <th>rainfall</th>\n",
       "      <th>parks</th>\n",
       "      <th>Sold</th>\n",
       "      <th>avg_dist</th>\n",
       "      <th>airport_YES</th>\n",
       "      <th>waterbody_Lake</th>\n",
       "      <th>waterbody_Lake and River</th>\n",
       "      <th>waterbody_River</th>\n",
       "    </tr>\n",
       "  </thead>\n",
       "  <tbody>\n",
       "    <tr>\n",
       "      <th>0</th>\n",
       "      <td>24.0</td>\n",
       "      <td>32.31</td>\n",
       "      <td>0.538</td>\n",
       "      <td>6.575</td>\n",
       "      <td>65.2</td>\n",
       "      <td>24.7</td>\n",
       "      <td>4.98</td>\n",
       "      <td>5.480</td>\n",
       "      <td>11.19200</td>\n",
       "      <td>23</td>\n",
       "      <td>0.049347</td>\n",
       "      <td>0</td>\n",
       "      <td>4.0875</td>\n",
       "      <td>1</td>\n",
       "      <td>0</td>\n",
       "      <td>0</td>\n",
       "      <td>1</td>\n",
       "    </tr>\n",
       "    <tr>\n",
       "      <th>1</th>\n",
       "      <td>21.6</td>\n",
       "      <td>37.07</td>\n",
       "      <td>0.469</td>\n",
       "      <td>6.421</td>\n",
       "      <td>78.9</td>\n",
       "      <td>22.2</td>\n",
       "      <td>9.14</td>\n",
       "      <td>7.332</td>\n",
       "      <td>12.17280</td>\n",
       "      <td>42</td>\n",
       "      <td>0.046146</td>\n",
       "      <td>1</td>\n",
       "      <td>4.9675</td>\n",
       "      <td>0</td>\n",
       "      <td>1</td>\n",
       "      <td>0</td>\n",
       "      <td>0</td>\n",
       "    </tr>\n",
       "    <tr>\n",
       "      <th>2</th>\n",
       "      <td>34.7</td>\n",
       "      <td>37.07</td>\n",
       "      <td>0.469</td>\n",
       "      <td>7.185</td>\n",
       "      <td>61.1</td>\n",
       "      <td>22.2</td>\n",
       "      <td>4.03</td>\n",
       "      <td>7.394</td>\n",
       "      <td>46.19856</td>\n",
       "      <td>38</td>\n",
       "      <td>0.045764</td>\n",
       "      <td>0</td>\n",
       "      <td>4.9675</td>\n",
       "      <td>0</td>\n",
       "      <td>0</td>\n",
       "      <td>0</td>\n",
       "      <td>0</td>\n",
       "    </tr>\n",
       "    <tr>\n",
       "      <th>3</th>\n",
       "      <td>33.4</td>\n",
       "      <td>32.18</td>\n",
       "      <td>0.458</td>\n",
       "      <td>6.998</td>\n",
       "      <td>45.8</td>\n",
       "      <td>21.3</td>\n",
       "      <td>2.94</td>\n",
       "      <td>9.268</td>\n",
       "      <td>11.26720</td>\n",
       "      <td>45</td>\n",
       "      <td>0.047151</td>\n",
       "      <td>0</td>\n",
       "      <td>6.0650</td>\n",
       "      <td>1</td>\n",
       "      <td>1</td>\n",
       "      <td>0</td>\n",
       "      <td>0</td>\n",
       "    </tr>\n",
       "    <tr>\n",
       "      <th>4</th>\n",
       "      <td>36.2</td>\n",
       "      <td>32.18</td>\n",
       "      <td>0.458</td>\n",
       "      <td>7.147</td>\n",
       "      <td>54.2</td>\n",
       "      <td>21.3</td>\n",
       "      <td>5.33</td>\n",
       "      <td>8.824</td>\n",
       "      <td>11.28960</td>\n",
       "      <td>55</td>\n",
       "      <td>0.039474</td>\n",
       "      <td>0</td>\n",
       "      <td>6.0625</td>\n",
       "      <td>0</td>\n",
       "      <td>1</td>\n",
       "      <td>0</td>\n",
       "      <td>0</td>\n",
       "    </tr>\n",
       "  </tbody>\n",
       "</table>\n",
       "</div>"
      ],
      "text/plain": [
       "   price  resid_area  air_qual  room_num   age  teachers  poor_prop  \\\n",
       "0   24.0       32.31     0.538     6.575  65.2      24.7       4.98   \n",
       "1   21.6       37.07     0.469     6.421  78.9      22.2       9.14   \n",
       "2   34.7       37.07     0.469     7.185  61.1      22.2       4.03   \n",
       "3   33.4       32.18     0.458     6.998  45.8      21.3       2.94   \n",
       "4   36.2       32.18     0.458     7.147  54.2      21.3       5.33   \n",
       "\n",
       "   n_hos_beds  n_hot_rooms  rainfall     parks  Sold  avg_dist  airport_YES  \\\n",
       "0       5.480     11.19200        23  0.049347     0    4.0875            1   \n",
       "1       7.332     12.17280        42  0.046146     1    4.9675            0   \n",
       "2       7.394     46.19856        38  0.045764     0    4.9675            0   \n",
       "3       9.268     11.26720        45  0.047151     0    6.0650            1   \n",
       "4       8.824     11.28960        55  0.039474     0    6.0625            0   \n",
       "\n",
       "   waterbody_Lake  waterbody_Lake and River  waterbody_River  \n",
       "0               0                         0                1  \n",
       "1               1                         0                0  \n",
       "2               0                         0                0  \n",
       "3               1                         0                0  \n",
       "4               1                         0                0  "
      ]
     },
     "execution_count": 4,
     "metadata": {},
     "output_type": "execute_result"
    }
   ],
   "source": [
    "df.head()"
   ]
  },
  {
   "cell_type": "code",
   "execution_count": 5,
   "id": "8d81002e",
   "metadata": {},
   "outputs": [
    {
     "data": {
      "text/plain": [
       "(506, 17)"
      ]
     },
     "execution_count": 5,
     "metadata": {},
     "output_type": "execute_result"
    }
   ],
   "source": [
    "df.shape"
   ]
  },
  {
   "cell_type": "markdown",
   "id": "2a60a72f",
   "metadata": {},
   "source": [
    "**Correlation Matrix**"
   ]
  },
  {
   "cell_type": "code",
   "execution_count": 6,
   "id": "615b8ec3",
   "metadata": {},
   "outputs": [
    {
     "data": {
      "text/html": [
       "<div>\n",
       "<style scoped>\n",
       "    .dataframe tbody tr th:only-of-type {\n",
       "        vertical-align: middle;\n",
       "    }\n",
       "\n",
       "    .dataframe tbody tr th {\n",
       "        vertical-align: top;\n",
       "    }\n",
       "\n",
       "    .dataframe thead th {\n",
       "        text-align: right;\n",
       "    }\n",
       "</style>\n",
       "<table border=\"1\" class=\"dataframe\">\n",
       "  <thead>\n",
       "    <tr style=\"text-align: right;\">\n",
       "      <th></th>\n",
       "      <th>price</th>\n",
       "      <th>resid_area</th>\n",
       "      <th>air_qual</th>\n",
       "      <th>room_num</th>\n",
       "      <th>age</th>\n",
       "      <th>teachers</th>\n",
       "      <th>poor_prop</th>\n",
       "      <th>n_hos_beds</th>\n",
       "      <th>n_hot_rooms</th>\n",
       "      <th>rainfall</th>\n",
       "      <th>parks</th>\n",
       "      <th>Sold</th>\n",
       "      <th>avg_dist</th>\n",
       "      <th>airport_YES</th>\n",
       "      <th>waterbody_Lake</th>\n",
       "      <th>waterbody_Lake and River</th>\n",
       "      <th>waterbody_River</th>\n",
       "    </tr>\n",
       "  </thead>\n",
       "  <tbody>\n",
       "    <tr>\n",
       "      <th>price</th>\n",
       "      <td>1.000000</td>\n",
       "      <td>-0.484754</td>\n",
       "      <td>-0.429300</td>\n",
       "      <td>0.696304</td>\n",
       "      <td>-0.377999</td>\n",
       "      <td>0.505655</td>\n",
       "      <td>-0.740836</td>\n",
       "      <td>0.108880</td>\n",
       "      <td>0.017007</td>\n",
       "      <td>-0.047200</td>\n",
       "      <td>-0.391574</td>\n",
       "      <td>-0.154698</td>\n",
       "      <td>0.249289</td>\n",
       "      <td>0.182867</td>\n",
       "      <td>0.036233</td>\n",
       "      <td>-0.037497</td>\n",
       "      <td>0.071751</td>\n",
       "    </tr>\n",
       "    <tr>\n",
       "      <th>resid_area</th>\n",
       "      <td>-0.484754</td>\n",
       "      <td>1.000000</td>\n",
       "      <td>0.763651</td>\n",
       "      <td>-0.391676</td>\n",
       "      <td>0.644779</td>\n",
       "      <td>-0.383248</td>\n",
       "      <td>0.603800</td>\n",
       "      <td>0.005799</td>\n",
       "      <td>-0.003761</td>\n",
       "      <td>0.055845</td>\n",
       "      <td>0.707635</td>\n",
       "      <td>0.024404</td>\n",
       "      <td>-0.708022</td>\n",
       "      <td>-0.115401</td>\n",
       "      <td>-0.026590</td>\n",
       "      <td>0.051649</td>\n",
       "      <td>-0.098976</td>\n",
       "    </tr>\n",
       "    <tr>\n",
       "      <th>air_qual</th>\n",
       "      <td>-0.429300</td>\n",
       "      <td>0.763651</td>\n",
       "      <td>1.000000</td>\n",
       "      <td>-0.302188</td>\n",
       "      <td>0.731470</td>\n",
       "      <td>-0.188933</td>\n",
       "      <td>0.590879</td>\n",
       "      <td>-0.049553</td>\n",
       "      <td>0.007238</td>\n",
       "      <td>0.091956</td>\n",
       "      <td>0.915544</td>\n",
       "      <td>-0.004017</td>\n",
       "      <td>-0.769247</td>\n",
       "      <td>-0.073903</td>\n",
       "      <td>-0.046393</td>\n",
       "      <td>0.013849</td>\n",
       "      <td>-0.037772</td>\n",
       "    </tr>\n",
       "    <tr>\n",
       "      <th>room_num</th>\n",
       "      <td>0.696304</td>\n",
       "      <td>-0.391676</td>\n",
       "      <td>-0.302188</td>\n",
       "      <td>1.000000</td>\n",
       "      <td>-0.240265</td>\n",
       "      <td>0.355501</td>\n",
       "      <td>-0.613808</td>\n",
       "      <td>0.032009</td>\n",
       "      <td>0.014583</td>\n",
       "      <td>-0.064718</td>\n",
       "      <td>-0.282817</td>\n",
       "      <td>0.027148</td>\n",
       "      <td>0.205241</td>\n",
       "      <td>0.163774</td>\n",
       "      <td>-0.004195</td>\n",
       "      <td>0.010554</td>\n",
       "      <td>0.046251</td>\n",
       "    </tr>\n",
       "    <tr>\n",
       "      <th>age</th>\n",
       "      <td>-0.377999</td>\n",
       "      <td>0.644779</td>\n",
       "      <td>0.731470</td>\n",
       "      <td>-0.240265</td>\n",
       "      <td>1.000000</td>\n",
       "      <td>-0.261515</td>\n",
       "      <td>0.602339</td>\n",
       "      <td>-0.021012</td>\n",
       "      <td>0.013918</td>\n",
       "      <td>0.074684</td>\n",
       "      <td>0.673850</td>\n",
       "      <td>-0.016291</td>\n",
       "      <td>-0.747906</td>\n",
       "      <td>0.005101</td>\n",
       "      <td>0.003452</td>\n",
       "      <td>-0.004354</td>\n",
       "      <td>-0.088609</td>\n",
       "    </tr>\n",
       "    <tr>\n",
       "      <th>teachers</th>\n",
       "      <td>0.505655</td>\n",
       "      <td>-0.383248</td>\n",
       "      <td>-0.188933</td>\n",
       "      <td>0.355501</td>\n",
       "      <td>-0.261515</td>\n",
       "      <td>1.000000</td>\n",
       "      <td>-0.374044</td>\n",
       "      <td>-0.008056</td>\n",
       "      <td>-0.037007</td>\n",
       "      <td>-0.045928</td>\n",
       "      <td>-0.187004</td>\n",
       "      <td>0.042525</td>\n",
       "      <td>0.232452</td>\n",
       "      <td>0.069437</td>\n",
       "      <td>0.048717</td>\n",
       "      <td>-0.046981</td>\n",
       "      <td>0.094256</td>\n",
       "    </tr>\n",
       "    <tr>\n",
       "      <th>poor_prop</th>\n",
       "      <td>-0.740836</td>\n",
       "      <td>0.603800</td>\n",
       "      <td>0.590879</td>\n",
       "      <td>-0.613808</td>\n",
       "      <td>0.602339</td>\n",
       "      <td>-0.374044</td>\n",
       "      <td>1.000000</td>\n",
       "      <td>-0.066008</td>\n",
       "      <td>0.017036</td>\n",
       "      <td>0.061444</td>\n",
       "      <td>0.552310</td>\n",
       "      <td>-0.082776</td>\n",
       "      <td>-0.496967</td>\n",
       "      <td>-0.095054</td>\n",
       "      <td>0.003197</td>\n",
       "      <td>0.020620</td>\n",
       "      <td>-0.109004</td>\n",
       "    </tr>\n",
       "    <tr>\n",
       "      <th>n_hos_beds</th>\n",
       "      <td>0.108880</td>\n",
       "      <td>0.005799</td>\n",
       "      <td>-0.049553</td>\n",
       "      <td>0.032009</td>\n",
       "      <td>-0.021012</td>\n",
       "      <td>-0.008056</td>\n",
       "      <td>-0.066008</td>\n",
       "      <td>1.000000</td>\n",
       "      <td>-0.003130</td>\n",
       "      <td>0.058596</td>\n",
       "      <td>-0.071272</td>\n",
       "      <td>0.066847</td>\n",
       "      <td>-0.027871</td>\n",
       "      <td>-0.006365</td>\n",
       "      <td>0.042278</td>\n",
       "      <td>0.059482</td>\n",
       "      <td>-0.074148</td>\n",
       "    </tr>\n",
       "    <tr>\n",
       "      <th>n_hot_rooms</th>\n",
       "      <td>0.017007</td>\n",
       "      <td>-0.003761</td>\n",
       "      <td>0.007238</td>\n",
       "      <td>0.014583</td>\n",
       "      <td>0.013918</td>\n",
       "      <td>-0.037007</td>\n",
       "      <td>0.017036</td>\n",
       "      <td>-0.003130</td>\n",
       "      <td>1.000000</td>\n",
       "      <td>0.014869</td>\n",
       "      <td>0.023757</td>\n",
       "      <td>-0.090338</td>\n",
       "      <td>-0.020700</td>\n",
       "      <td>-0.055338</td>\n",
       "      <td>0.037925</td>\n",
       "      <td>0.014755</td>\n",
       "      <td>-0.064096</td>\n",
       "    </tr>\n",
       "    <tr>\n",
       "      <th>rainfall</th>\n",
       "      <td>-0.047200</td>\n",
       "      <td>0.055845</td>\n",
       "      <td>0.091956</td>\n",
       "      <td>-0.064718</td>\n",
       "      <td>0.074684</td>\n",
       "      <td>-0.045928</td>\n",
       "      <td>0.061444</td>\n",
       "      <td>0.058596</td>\n",
       "      <td>0.014869</td>\n",
       "      <td>1.000000</td>\n",
       "      <td>0.078278</td>\n",
       "      <td>-0.040114</td>\n",
       "      <td>-0.037285</td>\n",
       "      <td>-0.013171</td>\n",
       "      <td>-0.016170</td>\n",
       "      <td>0.109234</td>\n",
       "      <td>-0.037016</td>\n",
       "    </tr>\n",
       "    <tr>\n",
       "      <th>parks</th>\n",
       "      <td>-0.391574</td>\n",
       "      <td>0.707635</td>\n",
       "      <td>0.915544</td>\n",
       "      <td>-0.282817</td>\n",
       "      <td>0.673850</td>\n",
       "      <td>-0.187004</td>\n",
       "      <td>0.552310</td>\n",
       "      <td>-0.071272</td>\n",
       "      <td>0.023757</td>\n",
       "      <td>0.078278</td>\n",
       "      <td>1.000000</td>\n",
       "      <td>0.004808</td>\n",
       "      <td>-0.707924</td>\n",
       "      <td>-0.052503</td>\n",
       "      <td>-0.034991</td>\n",
       "      <td>0.013265</td>\n",
       "      <td>-0.048862</td>\n",
       "    </tr>\n",
       "    <tr>\n",
       "      <th>Sold</th>\n",
       "      <td>-0.154698</td>\n",
       "      <td>0.024404</td>\n",
       "      <td>-0.004017</td>\n",
       "      <td>0.027148</td>\n",
       "      <td>-0.016291</td>\n",
       "      <td>0.042525</td>\n",
       "      <td>-0.082776</td>\n",
       "      <td>0.066847</td>\n",
       "      <td>-0.090338</td>\n",
       "      <td>-0.040114</td>\n",
       "      <td>0.004808</td>\n",
       "      <td>1.000000</td>\n",
       "      <td>-0.038810</td>\n",
       "      <td>-0.070371</td>\n",
       "      <td>-0.061414</td>\n",
       "      <td>-0.003117</td>\n",
       "      <td>0.072842</td>\n",
       "    </tr>\n",
       "    <tr>\n",
       "      <th>avg_dist</th>\n",
       "      <td>0.249289</td>\n",
       "      <td>-0.708022</td>\n",
       "      <td>-0.769247</td>\n",
       "      <td>0.205241</td>\n",
       "      <td>-0.747906</td>\n",
       "      <td>0.232452</td>\n",
       "      <td>-0.496967</td>\n",
       "      <td>-0.027871</td>\n",
       "      <td>-0.020700</td>\n",
       "      <td>-0.037285</td>\n",
       "      <td>-0.707924</td>\n",
       "      <td>-0.038810</td>\n",
       "      <td>1.000000</td>\n",
       "      <td>0.021402</td>\n",
       "      <td>0.034890</td>\n",
       "      <td>-0.021320</td>\n",
       "      <td>0.032247</td>\n",
       "    </tr>\n",
       "    <tr>\n",
       "      <th>airport_YES</th>\n",
       "      <td>0.182867</td>\n",
       "      <td>-0.115401</td>\n",
       "      <td>-0.073903</td>\n",
       "      <td>0.163774</td>\n",
       "      <td>0.005101</td>\n",
       "      <td>0.069437</td>\n",
       "      <td>-0.095054</td>\n",
       "      <td>-0.006365</td>\n",
       "      <td>-0.055338</td>\n",
       "      <td>-0.013171</td>\n",
       "      <td>-0.052503</td>\n",
       "      <td>-0.070371</td>\n",
       "      <td>0.021402</td>\n",
       "      <td>1.000000</td>\n",
       "      <td>0.035491</td>\n",
       "      <td>-0.070341</td>\n",
       "      <td>0.017341</td>\n",
       "    </tr>\n",
       "    <tr>\n",
       "      <th>waterbody_Lake</th>\n",
       "      <td>0.036233</td>\n",
       "      <td>-0.026590</td>\n",
       "      <td>-0.046393</td>\n",
       "      <td>-0.004195</td>\n",
       "      <td>0.003452</td>\n",
       "      <td>0.048717</td>\n",
       "      <td>0.003197</td>\n",
       "      <td>0.042278</td>\n",
       "      <td>0.037925</td>\n",
       "      <td>-0.016170</td>\n",
       "      <td>-0.034991</td>\n",
       "      <td>-0.061414</td>\n",
       "      <td>0.034890</td>\n",
       "      <td>0.035491</td>\n",
       "      <td>1.000000</td>\n",
       "      <td>-0.196747</td>\n",
       "      <td>-0.366563</td>\n",
       "    </tr>\n",
       "    <tr>\n",
       "      <th>waterbody_Lake and River</th>\n",
       "      <td>-0.037497</td>\n",
       "      <td>0.051649</td>\n",
       "      <td>0.013849</td>\n",
       "      <td>0.010554</td>\n",
       "      <td>-0.004354</td>\n",
       "      <td>-0.046981</td>\n",
       "      <td>0.020620</td>\n",
       "      <td>0.059482</td>\n",
       "      <td>0.014755</td>\n",
       "      <td>0.109234</td>\n",
       "      <td>0.013265</td>\n",
       "      <td>-0.003117</td>\n",
       "      <td>-0.021320</td>\n",
       "      <td>-0.070341</td>\n",
       "      <td>-0.196747</td>\n",
       "      <td>1.000000</td>\n",
       "      <td>-0.304095</td>\n",
       "    </tr>\n",
       "    <tr>\n",
       "      <th>waterbody_River</th>\n",
       "      <td>0.071751</td>\n",
       "      <td>-0.098976</td>\n",
       "      <td>-0.037772</td>\n",
       "      <td>0.046251</td>\n",
       "      <td>-0.088609</td>\n",
       "      <td>0.094256</td>\n",
       "      <td>-0.109004</td>\n",
       "      <td>-0.074148</td>\n",
       "      <td>-0.064096</td>\n",
       "      <td>-0.037016</td>\n",
       "      <td>-0.048862</td>\n",
       "      <td>0.072842</td>\n",
       "      <td>0.032247</td>\n",
       "      <td>0.017341</td>\n",
       "      <td>-0.366563</td>\n",
       "      <td>-0.304095</td>\n",
       "      <td>1.000000</td>\n",
       "    </tr>\n",
       "  </tbody>\n",
       "</table>\n",
       "</div>"
      ],
      "text/plain": [
       "                             price  resid_area  air_qual  room_num       age  \\\n",
       "price                     1.000000   -0.484754 -0.429300  0.696304 -0.377999   \n",
       "resid_area               -0.484754    1.000000  0.763651 -0.391676  0.644779   \n",
       "air_qual                 -0.429300    0.763651  1.000000 -0.302188  0.731470   \n",
       "room_num                  0.696304   -0.391676 -0.302188  1.000000 -0.240265   \n",
       "age                      -0.377999    0.644779  0.731470 -0.240265  1.000000   \n",
       "teachers                  0.505655   -0.383248 -0.188933  0.355501 -0.261515   \n",
       "poor_prop                -0.740836    0.603800  0.590879 -0.613808  0.602339   \n",
       "n_hos_beds                0.108880    0.005799 -0.049553  0.032009 -0.021012   \n",
       "n_hot_rooms               0.017007   -0.003761  0.007238  0.014583  0.013918   \n",
       "rainfall                 -0.047200    0.055845  0.091956 -0.064718  0.074684   \n",
       "parks                    -0.391574    0.707635  0.915544 -0.282817  0.673850   \n",
       "Sold                     -0.154698    0.024404 -0.004017  0.027148 -0.016291   \n",
       "avg_dist                  0.249289   -0.708022 -0.769247  0.205241 -0.747906   \n",
       "airport_YES               0.182867   -0.115401 -0.073903  0.163774  0.005101   \n",
       "waterbody_Lake            0.036233   -0.026590 -0.046393 -0.004195  0.003452   \n",
       "waterbody_Lake and River -0.037497    0.051649  0.013849  0.010554 -0.004354   \n",
       "waterbody_River           0.071751   -0.098976 -0.037772  0.046251 -0.088609   \n",
       "\n",
       "                          teachers  poor_prop  n_hos_beds  n_hot_rooms  \\\n",
       "price                     0.505655  -0.740836    0.108880     0.017007   \n",
       "resid_area               -0.383248   0.603800    0.005799    -0.003761   \n",
       "air_qual                 -0.188933   0.590879   -0.049553     0.007238   \n",
       "room_num                  0.355501  -0.613808    0.032009     0.014583   \n",
       "age                      -0.261515   0.602339   -0.021012     0.013918   \n",
       "teachers                  1.000000  -0.374044   -0.008056    -0.037007   \n",
       "poor_prop                -0.374044   1.000000   -0.066008     0.017036   \n",
       "n_hos_beds               -0.008056  -0.066008    1.000000    -0.003130   \n",
       "n_hot_rooms              -0.037007   0.017036   -0.003130     1.000000   \n",
       "rainfall                 -0.045928   0.061444    0.058596     0.014869   \n",
       "parks                    -0.187004   0.552310   -0.071272     0.023757   \n",
       "Sold                      0.042525  -0.082776    0.066847    -0.090338   \n",
       "avg_dist                  0.232452  -0.496967   -0.027871    -0.020700   \n",
       "airport_YES               0.069437  -0.095054   -0.006365    -0.055338   \n",
       "waterbody_Lake            0.048717   0.003197    0.042278     0.037925   \n",
       "waterbody_Lake and River -0.046981   0.020620    0.059482     0.014755   \n",
       "waterbody_River           0.094256  -0.109004   -0.074148    -0.064096   \n",
       "\n",
       "                          rainfall     parks      Sold  avg_dist  airport_YES  \\\n",
       "price                    -0.047200 -0.391574 -0.154698  0.249289     0.182867   \n",
       "resid_area                0.055845  0.707635  0.024404 -0.708022    -0.115401   \n",
       "air_qual                  0.091956  0.915544 -0.004017 -0.769247    -0.073903   \n",
       "room_num                 -0.064718 -0.282817  0.027148  0.205241     0.163774   \n",
       "age                       0.074684  0.673850 -0.016291 -0.747906     0.005101   \n",
       "teachers                 -0.045928 -0.187004  0.042525  0.232452     0.069437   \n",
       "poor_prop                 0.061444  0.552310 -0.082776 -0.496967    -0.095054   \n",
       "n_hos_beds                0.058596 -0.071272  0.066847 -0.027871    -0.006365   \n",
       "n_hot_rooms               0.014869  0.023757 -0.090338 -0.020700    -0.055338   \n",
       "rainfall                  1.000000  0.078278 -0.040114 -0.037285    -0.013171   \n",
       "parks                     0.078278  1.000000  0.004808 -0.707924    -0.052503   \n",
       "Sold                     -0.040114  0.004808  1.000000 -0.038810    -0.070371   \n",
       "avg_dist                 -0.037285 -0.707924 -0.038810  1.000000     0.021402   \n",
       "airport_YES              -0.013171 -0.052503 -0.070371  0.021402     1.000000   \n",
       "waterbody_Lake           -0.016170 -0.034991 -0.061414  0.034890     0.035491   \n",
       "waterbody_Lake and River  0.109234  0.013265 -0.003117 -0.021320    -0.070341   \n",
       "waterbody_River          -0.037016 -0.048862  0.072842  0.032247     0.017341   \n",
       "\n",
       "                          waterbody_Lake  waterbody_Lake and River  \\\n",
       "price                           0.036233                 -0.037497   \n",
       "resid_area                     -0.026590                  0.051649   \n",
       "air_qual                       -0.046393                  0.013849   \n",
       "room_num                       -0.004195                  0.010554   \n",
       "age                             0.003452                 -0.004354   \n",
       "teachers                        0.048717                 -0.046981   \n",
       "poor_prop                       0.003197                  0.020620   \n",
       "n_hos_beds                      0.042278                  0.059482   \n",
       "n_hot_rooms                     0.037925                  0.014755   \n",
       "rainfall                       -0.016170                  0.109234   \n",
       "parks                          -0.034991                  0.013265   \n",
       "Sold                           -0.061414                 -0.003117   \n",
       "avg_dist                        0.034890                 -0.021320   \n",
       "airport_YES                     0.035491                 -0.070341   \n",
       "waterbody_Lake                  1.000000                 -0.196747   \n",
       "waterbody_Lake and River       -0.196747                  1.000000   \n",
       "waterbody_River                -0.366563                 -0.304095   \n",
       "\n",
       "                          waterbody_River  \n",
       "price                            0.071751  \n",
       "resid_area                      -0.098976  \n",
       "air_qual                        -0.037772  \n",
       "room_num                         0.046251  \n",
       "age                             -0.088609  \n",
       "teachers                         0.094256  \n",
       "poor_prop                       -0.109004  \n",
       "n_hos_beds                      -0.074148  \n",
       "n_hot_rooms                     -0.064096  \n",
       "rainfall                        -0.037016  \n",
       "parks                           -0.048862  \n",
       "Sold                             0.072842  \n",
       "avg_dist                         0.032247  \n",
       "airport_YES                      0.017341  \n",
       "waterbody_Lake                  -0.366563  \n",
       "waterbody_Lake and River        -0.304095  \n",
       "waterbody_River                  1.000000  "
      ]
     },
     "execution_count": 6,
     "metadata": {},
     "output_type": "execute_result"
    }
   ],
   "source": [
    "df.corr()"
   ]
  },
  {
   "cell_type": "markdown",
   "id": "00a84974",
   "metadata": {},
   "source": [
    "1.Correlation values close to 1 or -1 are important for the analysis of the dependent variable.                                 \n",
    "2.Two independent variables with high correlation leads to multicollinearity therefore one should be deleted."
   ]
  },
  {
   "cell_type": "code",
   "execution_count": 7,
   "id": "8fbcd55b",
   "metadata": {},
   "outputs": [
    {
     "data": {
      "text/html": [
       "<div>\n",
       "<style scoped>\n",
       "    .dataframe tbody tr th:only-of-type {\n",
       "        vertical-align: middle;\n",
       "    }\n",
       "\n",
       "    .dataframe tbody tr th {\n",
       "        vertical-align: top;\n",
       "    }\n",
       "\n",
       "    .dataframe thead th {\n",
       "        text-align: right;\n",
       "    }\n",
       "</style>\n",
       "<table border=\"1\" class=\"dataframe\">\n",
       "  <thead>\n",
       "    <tr style=\"text-align: right;\">\n",
       "      <th></th>\n",
       "      <th>price</th>\n",
       "      <th>resid_area</th>\n",
       "      <th>air_qual</th>\n",
       "      <th>room_num</th>\n",
       "      <th>age</th>\n",
       "      <th>teachers</th>\n",
       "      <th>poor_prop</th>\n",
       "      <th>n_hos_beds</th>\n",
       "      <th>n_hot_rooms</th>\n",
       "      <th>rainfall</th>\n",
       "      <th>parks</th>\n",
       "      <th>Sold</th>\n",
       "      <th>avg_dist</th>\n",
       "      <th>airport_YES</th>\n",
       "      <th>waterbody_Lake</th>\n",
       "      <th>waterbody_Lake and River</th>\n",
       "      <th>waterbody_River</th>\n",
       "    </tr>\n",
       "  </thead>\n",
       "  <tbody>\n",
       "    <tr>\n",
       "      <th>count</th>\n",
       "      <td>506.000000</td>\n",
       "      <td>506.000000</td>\n",
       "      <td>506.000000</td>\n",
       "      <td>506.000000</td>\n",
       "      <td>506.000000</td>\n",
       "      <td>506.000000</td>\n",
       "      <td>506.000000</td>\n",
       "      <td>506.000000</td>\n",
       "      <td>506.000000</td>\n",
       "      <td>506.000000</td>\n",
       "      <td>506.000000</td>\n",
       "      <td>506.000000</td>\n",
       "      <td>506.000000</td>\n",
       "      <td>506.000000</td>\n",
       "      <td>506.000000</td>\n",
       "      <td>506.000000</td>\n",
       "      <td>506.000000</td>\n",
       "    </tr>\n",
       "    <tr>\n",
       "      <th>mean</th>\n",
       "      <td>22.528854</td>\n",
       "      <td>41.136779</td>\n",
       "      <td>0.554695</td>\n",
       "      <td>6.284634</td>\n",
       "      <td>68.574901</td>\n",
       "      <td>21.544466</td>\n",
       "      <td>12.653063</td>\n",
       "      <td>7.899767</td>\n",
       "      <td>12.864050</td>\n",
       "      <td>39.187747</td>\n",
       "      <td>0.054454</td>\n",
       "      <td>0.454545</td>\n",
       "      <td>3.795104</td>\n",
       "      <td>0.551383</td>\n",
       "      <td>0.191700</td>\n",
       "      <td>0.140316</td>\n",
       "      <td>0.361660</td>\n",
       "    </tr>\n",
       "    <tr>\n",
       "      <th>std</th>\n",
       "      <td>9.182176</td>\n",
       "      <td>6.860353</td>\n",
       "      <td>0.115878</td>\n",
       "      <td>0.702617</td>\n",
       "      <td>28.148861</td>\n",
       "      <td>2.164946</td>\n",
       "      <td>7.141062</td>\n",
       "      <td>1.464939</td>\n",
       "      <td>2.688778</td>\n",
       "      <td>12.497221</td>\n",
       "      <td>0.010632</td>\n",
       "      <td>0.498422</td>\n",
       "      <td>2.105859</td>\n",
       "      <td>0.497845</td>\n",
       "      <td>0.394028</td>\n",
       "      <td>0.347659</td>\n",
       "      <td>0.480957</td>\n",
       "    </tr>\n",
       "    <tr>\n",
       "      <th>min</th>\n",
       "      <td>5.000000</td>\n",
       "      <td>30.460000</td>\n",
       "      <td>0.385000</td>\n",
       "      <td>3.561000</td>\n",
       "      <td>2.900000</td>\n",
       "      <td>18.000000</td>\n",
       "      <td>1.730000</td>\n",
       "      <td>5.268000</td>\n",
       "      <td>10.057600</td>\n",
       "      <td>6.000000</td>\n",
       "      <td>0.033292</td>\n",
       "      <td>0.000000</td>\n",
       "      <td>1.127500</td>\n",
       "      <td>0.000000</td>\n",
       "      <td>0.000000</td>\n",
       "      <td>0.000000</td>\n",
       "      <td>0.000000</td>\n",
       "    </tr>\n",
       "    <tr>\n",
       "      <th>25%</th>\n",
       "      <td>17.025000</td>\n",
       "      <td>35.190000</td>\n",
       "      <td>0.449000</td>\n",
       "      <td>5.885500</td>\n",
       "      <td>45.025000</td>\n",
       "      <td>19.800000</td>\n",
       "      <td>6.950000</td>\n",
       "      <td>6.659000</td>\n",
       "      <td>11.189800</td>\n",
       "      <td>28.000000</td>\n",
       "      <td>0.046464</td>\n",
       "      <td>0.000000</td>\n",
       "      <td>2.100625</td>\n",
       "      <td>0.000000</td>\n",
       "      <td>0.000000</td>\n",
       "      <td>0.000000</td>\n",
       "      <td>0.000000</td>\n",
       "    </tr>\n",
       "    <tr>\n",
       "      <th>50%</th>\n",
       "      <td>21.200000</td>\n",
       "      <td>39.690000</td>\n",
       "      <td>0.538000</td>\n",
       "      <td>6.208500</td>\n",
       "      <td>77.500000</td>\n",
       "      <td>20.950000</td>\n",
       "      <td>11.360000</td>\n",
       "      <td>7.963000</td>\n",
       "      <td>12.720000</td>\n",
       "      <td>39.000000</td>\n",
       "      <td>0.053507</td>\n",
       "      <td>0.000000</td>\n",
       "      <td>3.207500</td>\n",
       "      <td>1.000000</td>\n",
       "      <td>0.000000</td>\n",
       "      <td>0.000000</td>\n",
       "      <td>0.000000</td>\n",
       "    </tr>\n",
       "    <tr>\n",
       "      <th>75%</th>\n",
       "      <td>25.000000</td>\n",
       "      <td>48.100000</td>\n",
       "      <td>0.624000</td>\n",
       "      <td>6.623500</td>\n",
       "      <td>94.075000</td>\n",
       "      <td>22.600000</td>\n",
       "      <td>16.955000</td>\n",
       "      <td>9.076000</td>\n",
       "      <td>14.170800</td>\n",
       "      <td>50.000000</td>\n",
       "      <td>0.061397</td>\n",
       "      <td>1.000000</td>\n",
       "      <td>5.187500</td>\n",
       "      <td>1.000000</td>\n",
       "      <td>0.000000</td>\n",
       "      <td>0.000000</td>\n",
       "      <td>1.000000</td>\n",
       "    </tr>\n",
       "    <tr>\n",
       "      <th>max</th>\n",
       "      <td>50.000000</td>\n",
       "      <td>57.740000</td>\n",
       "      <td>0.871000</td>\n",
       "      <td>8.780000</td>\n",
       "      <td>100.000000</td>\n",
       "      <td>27.400000</td>\n",
       "      <td>37.970000</td>\n",
       "      <td>10.876000</td>\n",
       "      <td>46.198560</td>\n",
       "      <td>60.000000</td>\n",
       "      <td>0.086711</td>\n",
       "      <td>1.000000</td>\n",
       "      <td>12.127500</td>\n",
       "      <td>1.000000</td>\n",
       "      <td>1.000000</td>\n",
       "      <td>1.000000</td>\n",
       "      <td>1.000000</td>\n",
       "    </tr>\n",
       "  </tbody>\n",
       "</table>\n",
       "</div>"
      ],
      "text/plain": [
       "            price  resid_area    air_qual    room_num         age    teachers  \\\n",
       "count  506.000000  506.000000  506.000000  506.000000  506.000000  506.000000   \n",
       "mean    22.528854   41.136779    0.554695    6.284634   68.574901   21.544466   \n",
       "std      9.182176    6.860353    0.115878    0.702617   28.148861    2.164946   \n",
       "min      5.000000   30.460000    0.385000    3.561000    2.900000   18.000000   \n",
       "25%     17.025000   35.190000    0.449000    5.885500   45.025000   19.800000   \n",
       "50%     21.200000   39.690000    0.538000    6.208500   77.500000   20.950000   \n",
       "75%     25.000000   48.100000    0.624000    6.623500   94.075000   22.600000   \n",
       "max     50.000000   57.740000    0.871000    8.780000  100.000000   27.400000   \n",
       "\n",
       "        poor_prop  n_hos_beds  n_hot_rooms    rainfall       parks  \\\n",
       "count  506.000000  506.000000   506.000000  506.000000  506.000000   \n",
       "mean    12.653063    7.899767    12.864050   39.187747    0.054454   \n",
       "std      7.141062    1.464939     2.688778   12.497221    0.010632   \n",
       "min      1.730000    5.268000    10.057600    6.000000    0.033292   \n",
       "25%      6.950000    6.659000    11.189800   28.000000    0.046464   \n",
       "50%     11.360000    7.963000    12.720000   39.000000    0.053507   \n",
       "75%     16.955000    9.076000    14.170800   50.000000    0.061397   \n",
       "max     37.970000   10.876000    46.198560   60.000000    0.086711   \n",
       "\n",
       "             Sold    avg_dist  airport_YES  waterbody_Lake  \\\n",
       "count  506.000000  506.000000   506.000000      506.000000   \n",
       "mean     0.454545    3.795104     0.551383        0.191700   \n",
       "std      0.498422    2.105859     0.497845        0.394028   \n",
       "min      0.000000    1.127500     0.000000        0.000000   \n",
       "25%      0.000000    2.100625     0.000000        0.000000   \n",
       "50%      0.000000    3.207500     1.000000        0.000000   \n",
       "75%      1.000000    5.187500     1.000000        0.000000   \n",
       "max      1.000000   12.127500     1.000000        1.000000   \n",
       "\n",
       "       waterbody_Lake and River  waterbody_River  \n",
       "count                506.000000       506.000000  \n",
       "mean                   0.140316         0.361660  \n",
       "std                    0.347659         0.480957  \n",
       "min                    0.000000         0.000000  \n",
       "25%                    0.000000         0.000000  \n",
       "50%                    0.000000         0.000000  \n",
       "75%                    0.000000         1.000000  \n",
       "max                    1.000000         1.000000  "
      ]
     },
     "execution_count": 7,
     "metadata": {},
     "output_type": "execute_result"
    }
   ],
   "source": [
    "df.describe()"
   ]
  },
  {
   "cell_type": "code",
   "execution_count": 8,
   "id": "7b40a5ff",
   "metadata": {},
   "outputs": [
    {
     "data": {
      "text/plain": [
       "<seaborn.axisgrid.JointGrid at 0x1e216a36520>"
      ]
     },
     "execution_count": 8,
     "metadata": {},
     "output_type": "execute_result"
    },
    {
     "data": {
      "image/png": "[encoded data removed]",
      "text/plain": [
       "<Figure size 432x432 with 3 Axes>"
      ]
     },
     "metadata": {
      "needs_background": "light"
     },
     "output_type": "display_data"
    }
   ],
   "source": [
    "sns.jointplot(x='n_hot_rooms',y='price',data=df)"
   ]
  },
  {
   "cell_type": "markdown",
   "id": "64310291",
   "metadata": {},
   "source": [
    "Two outliers can be clearly seen from the scatter plot"
   ]
  },
  {
   "cell_type": "code",
   "execution_count": 9,
   "id": "b9c0acf5",
   "metadata": {},
   "outputs": [
    {
     "data": {
      "text/plain": [
       "<seaborn.axisgrid.JointGrid at 0x1e211cd6190>"
      ]
     },
     "execution_count": 9,
     "metadata": {},
     "output_type": "execute_result"
    },
    {
     "data": {
      "image/png": "[encoded data removed]",
      "text/plain": [
       "<Figure size 432x432 with 3 Axes>"
      ]
     },
     "metadata": {
      "needs_background": "light"
     },
     "output_type": "display_data"
    }
   ],
   "source": [
    "sns.jointplot(x='rainfall',y='price',data=df)"
   ]
  },
  {
   "cell_type": "markdown",
   "id": "1fe311be",
   "metadata": {},
   "source": [
    "One value is very small clearlt visible"
   ]
  },
  {
   "cell_type": "code",
   "execution_count": 10,
   "id": "26747541",
   "metadata": {},
   "outputs": [
    {
     "data": {
      "text/plain": [
       "<AxesSubplot:xlabel='airport_YES', ylabel='count'>"
      ]
     },
     "execution_count": 10,
     "metadata": {},
     "output_type": "execute_result"
    },
    {
     "data": {
      "image/png": "[encoded data removed]",
      "text/plain": [
       "<Figure size 432x288 with 1 Axes>"
      ]
     },
     "metadata": {
      "needs_background": "light"
     },
     "output_type": "display_data"
    }
   ],
   "source": [
    "sns.countplot(x='airport_YES',data=df)"
   ]
  },
  {
   "cell_type": "markdown",
   "id": "c3f64bab",
   "metadata": {},
   "source": [
    "# <p style=\"padding:10px;background-color:#232323;margin:0;color:white;font-family:newtimeroman;font-size:100%;text-align:center;border-radius: 15px 50px;overflow:hidden;font-weight:500\">Classification</p>\n"
   ]
  },
  {
   "cell_type": "markdown",
   "id": "9a4a615c",
   "metadata": {},
   "source": [
    "**1. Logistic Regression**"
   ]
  },
  {
   "cell_type": "code",
   "execution_count": 11,
   "id": "4278cbe3",
   "metadata": {},
   "outputs": [],
   "source": [
    "from sklearn.linear_model import LogisticRegression"
   ]
  },
  {
   "cell_type": "code",
   "execution_count": 12,
   "id": "9ea48872",
   "metadata": {},
   "outputs": [],
   "source": [
    "log_r=LogisticRegression()"
   ]
  },
  {
   "cell_type": "code",
   "execution_count": 13,
   "id": "003c4dd1",
   "metadata": {},
   "outputs": [],
   "source": [
    "x=df.loc[:,df.columns!='Sold']"
   ]
  },
  {
   "cell_type": "code",
   "execution_count": 14,
   "id": "26659e9f",
   "metadata": {},
   "outputs": [],
   "source": [
    "y=df['Sold']"
   ]
  },
  {
   "cell_type": "code",
   "execution_count": 15,
   "id": "e38bcb3c",
   "metadata": {},
   "outputs": [
    {
     "name": "stderr",
     "output_type": "stream",
     "text": [
      "C:\\ProgramData\\Anaconda3\\lib\\site-packages\\sklearn\\linear_model\\_logistic.py:763: ConvergenceWarning: lbfgs failed to converge (status=1):\n",
      "STOP: TOTAL NO. of ITERATIONS REACHED LIMIT.\n",
      "\n",
      "Increase the number of iterations (max_iter) or scale the data as shown in:\n",
      "    https://scikit-learn.org/stable/modules/preprocessing.html\n",
      "Please also refer to the documentation for alternative solver options:\n",
      "    https://scikit-learn.org/stable/modules/linear_model.html#logistic-regression\n",
      "  n_iter_i = _check_optimize_result(\n"
     ]
    },
    {
     "data": {
      "text/plain": [
       "LogisticRegression()"
      ]
     },
     "execution_count": 15,
     "metadata": {},
     "output_type": "execute_result"
    }
   ],
   "source": [
    "log_r.fit(x,y)"
   ]
  },
  {
   "cell_type": "code",
   "execution_count": 16,
   "id": "1213286e",
   "metadata": {},
   "outputs": [],
   "source": [
    "pred=log_r.predict(x)"
   ]
  },
  {
   "cell_type": "code",
   "execution_count": 17,
   "id": "84a6ee30",
   "metadata": {},
   "outputs": [],
   "source": [
    "from sklearn.metrics import accuracy_score, confusion_matrix"
   ]
  },
  {
   "cell_type": "code",
   "execution_count": 18,
   "id": "8ab3c6c8",
   "metadata": {},
   "outputs": [
    {
     "data": {
      "text/plain": [
       "0.6818181818181818"
      ]
     },
     "execution_count": 18,
     "metadata": {},
     "output_type": "execute_result"
    }
   ],
   "source": [
    "accuracy_score(y,pred)"
   ]
  },
  {
   "cell_type": "code",
   "execution_count": 19,
   "id": "77317b45",
   "metadata": {},
   "outputs": [
    {
     "data": {
      "text/plain": [
       "array([[196,  80],\n",
       "       [ 81, 149]], dtype=int64)"
      ]
     },
     "execution_count": 19,
     "metadata": {},
     "output_type": "execute_result"
    }
   ],
   "source": [
    "confusion_matrix(y,pred)"
   ]
  },
  {
   "cell_type": "markdown",
   "id": "c5b91368",
   "metadata": {},
   "source": [
    "# Split data to test and training"
   ]
  },
  {
   "cell_type": "code",
   "execution_count": 20,
   "id": "0a169218",
   "metadata": {},
   "outputs": [],
   "source": [
    "from sklearn.model_selection import train_test_split"
   ]
  },
  {
   "cell_type": "code",
   "execution_count": 21,
   "id": "f0ae862c",
   "metadata": {},
   "outputs": [],
   "source": [
    "x_train,x_test,y_train,y_test=train_test_split(x,y,random_state=45,test_size=0.2,shuffle=True)"
   ]
  },
  {
   "cell_type": "code",
   "execution_count": 22,
   "id": "6f7d96d6",
   "metadata": {},
   "outputs": [],
   "source": [
    "log_r1=LogisticRegression()"
   ]
  },
  {
   "cell_type": "code",
   "execution_count": 23,
   "id": "a6780880",
   "metadata": {},
   "outputs": [
    {
     "name": "stderr",
     "output_type": "stream",
     "text": [
      "C:\\ProgramData\\Anaconda3\\lib\\site-packages\\sklearn\\linear_model\\_logistic.py:763: ConvergenceWarning: lbfgs failed to converge (status=1):\n",
      "STOP: TOTAL NO. of ITERATIONS REACHED LIMIT.\n",
      "\n",
      "Increase the number of iterations (max_iter) or scale the data as shown in:\n",
      "    https://scikit-learn.org/stable/modules/preprocessing.html\n",
      "Please also refer to the documentation for alternative solver options:\n",
      "    https://scikit-learn.org/stable/modules/linear_model.html#logistic-regression\n",
      "  n_iter_i = _check_optimize_result(\n"
     ]
    },
    {
     "data": {
      "text/plain": [
       "LogisticRegression()"
      ]
     },
     "execution_count": 23,
     "metadata": {},
     "output_type": "execute_result"
    }
   ],
   "source": [
    "log_r1.fit(x_train,y_train)"
   ]
  },
  {
   "cell_type": "code",
   "execution_count": 24,
   "id": "a3fa8b94",
   "metadata": {},
   "outputs": [],
   "source": [
    "y_pred=log_r1.predict(x_test)"
   ]
  },
  {
   "cell_type": "code",
   "execution_count": 25,
   "id": "5111d285",
   "metadata": {},
   "outputs": [
    {
     "data": {
      "text/plain": [
       "array([[40, 16],\n",
       "       [20, 26]], dtype=int64)"
      ]
     },
     "execution_count": 25,
     "metadata": {},
     "output_type": "execute_result"
    }
   ],
   "source": [
    "confusion_matrix(y_test,y_pred)"
   ]
  },
  {
   "cell_type": "code",
   "execution_count": 26,
   "id": "adb149b9",
   "metadata": {},
   "outputs": [
    {
     "data": {
      "text/plain": [
       "0.6470588235294118"
      ]
     },
     "execution_count": 26,
     "metadata": {},
     "output_type": "execute_result"
    }
   ],
   "source": [
    "accuracy_score(y_test,y_pred)"
   ]
  },
  {
   "cell_type": "code",
   "execution_count": 27,
   "id": "9fd7a463",
   "metadata": {},
   "outputs": [
    {
     "data": {
      "text/plain": [
       "0.6831683168316832"
      ]
     },
     "execution_count": 27,
     "metadata": {},
     "output_type": "execute_result"
    }
   ],
   "source": [
    "accuracy_score(y_train,log_r1.predict(x_train))"
   ]
  },
  {
   "cell_type": "markdown",
   "id": "7fbb7e4e",
   "metadata": {},
   "source": [
    "The accuracy of the test data is greater than that of the training set"
   ]
  },
  {
   "cell_type": "code",
   "execution_count": 28,
   "id": "9efd8c5c",
   "metadata": {},
   "outputs": [],
   "source": [
    "import statsmodels.api as sn"
   ]
  },
  {
   "cell_type": "code",
   "execution_count": 29,
   "id": "c96ce6de",
   "metadata": {},
   "outputs": [],
   "source": [
    "x_cons=sn.add_constant(x)"
   ]
  },
  {
   "cell_type": "code",
   "execution_count": 30,
   "id": "122dab86",
   "metadata": {},
   "outputs": [
    {
     "data": {
      "text/html": [
       "<div>\n",
       "<style scoped>\n",
       "    .dataframe tbody tr th:only-of-type {\n",
       "        vertical-align: middle;\n",
       "    }\n",
       "\n",
       "    .dataframe tbody tr th {\n",
       "        vertical-align: top;\n",
       "    }\n",
       "\n",
       "    .dataframe thead th {\n",
       "        text-align: right;\n",
       "    }\n",
       "</style>\n",
       "<table border=\"1\" class=\"dataframe\">\n",
       "  <thead>\n",
       "    <tr style=\"text-align: right;\">\n",
       "      <th></th>\n",
       "      <th>const</th>\n",
       "      <th>price</th>\n",
       "      <th>resid_area</th>\n",
       "      <th>air_qual</th>\n",
       "      <th>room_num</th>\n",
       "      <th>age</th>\n",
       "      <th>teachers</th>\n",
       "      <th>poor_prop</th>\n",
       "      <th>n_hos_beds</th>\n",
       "      <th>n_hot_rooms</th>\n",
       "      <th>rainfall</th>\n",
       "      <th>parks</th>\n",
       "      <th>avg_dist</th>\n",
       "      <th>airport_YES</th>\n",
       "      <th>waterbody_Lake</th>\n",
       "      <th>waterbody_Lake and River</th>\n",
       "      <th>waterbody_River</th>\n",
       "    </tr>\n",
       "  </thead>\n",
       "  <tbody>\n",
       "    <tr>\n",
       "      <th>0</th>\n",
       "      <td>1.0</td>\n",
       "      <td>24.0</td>\n",
       "      <td>32.31</td>\n",
       "      <td>0.538</td>\n",
       "      <td>6.575</td>\n",
       "      <td>65.2</td>\n",
       "      <td>24.7</td>\n",
       "      <td>4.98</td>\n",
       "      <td>5.480</td>\n",
       "      <td>11.19200</td>\n",
       "      <td>23</td>\n",
       "      <td>0.049347</td>\n",
       "      <td>4.0875</td>\n",
       "      <td>1</td>\n",
       "      <td>0</td>\n",
       "      <td>0</td>\n",
       "      <td>1</td>\n",
       "    </tr>\n",
       "    <tr>\n",
       "      <th>1</th>\n",
       "      <td>1.0</td>\n",
       "      <td>21.6</td>\n",
       "      <td>37.07</td>\n",
       "      <td>0.469</td>\n",
       "      <td>6.421</td>\n",
       "      <td>78.9</td>\n",
       "      <td>22.2</td>\n",
       "      <td>9.14</td>\n",
       "      <td>7.332</td>\n",
       "      <td>12.17280</td>\n",
       "      <td>42</td>\n",
       "      <td>0.046146</td>\n",
       "      <td>4.9675</td>\n",
       "      <td>0</td>\n",
       "      <td>1</td>\n",
       "      <td>0</td>\n",
       "      <td>0</td>\n",
       "    </tr>\n",
       "    <tr>\n",
       "      <th>2</th>\n",
       "      <td>1.0</td>\n",
       "      <td>34.7</td>\n",
       "      <td>37.07</td>\n",
       "      <td>0.469</td>\n",
       "      <td>7.185</td>\n",
       "      <td>61.1</td>\n",
       "      <td>22.2</td>\n",
       "      <td>4.03</td>\n",
       "      <td>7.394</td>\n",
       "      <td>46.19856</td>\n",
       "      <td>38</td>\n",
       "      <td>0.045764</td>\n",
       "      <td>4.9675</td>\n",
       "      <td>0</td>\n",
       "      <td>0</td>\n",
       "      <td>0</td>\n",
       "      <td>0</td>\n",
       "    </tr>\n",
       "    <tr>\n",
       "      <th>3</th>\n",
       "      <td>1.0</td>\n",
       "      <td>33.4</td>\n",
       "      <td>32.18</td>\n",
       "      <td>0.458</td>\n",
       "      <td>6.998</td>\n",
       "      <td>45.8</td>\n",
       "      <td>21.3</td>\n",
       "      <td>2.94</td>\n",
       "      <td>9.268</td>\n",
       "      <td>11.26720</td>\n",
       "      <td>45</td>\n",
       "      <td>0.047151</td>\n",
       "      <td>6.0650</td>\n",
       "      <td>1</td>\n",
       "      <td>1</td>\n",
       "      <td>0</td>\n",
       "      <td>0</td>\n",
       "    </tr>\n",
       "    <tr>\n",
       "      <th>4</th>\n",
       "      <td>1.0</td>\n",
       "      <td>36.2</td>\n",
       "      <td>32.18</td>\n",
       "      <td>0.458</td>\n",
       "      <td>7.147</td>\n",
       "      <td>54.2</td>\n",
       "      <td>21.3</td>\n",
       "      <td>5.33</td>\n",
       "      <td>8.824</td>\n",
       "      <td>11.28960</td>\n",
       "      <td>55</td>\n",
       "      <td>0.039474</td>\n",
       "      <td>6.0625</td>\n",
       "      <td>0</td>\n",
       "      <td>1</td>\n",
       "      <td>0</td>\n",
       "      <td>0</td>\n",
       "    </tr>\n",
       "  </tbody>\n",
       "</table>\n",
       "</div>"
      ],
      "text/plain": [
       "   const  price  resid_area  air_qual  room_num   age  teachers  poor_prop  \\\n",
       "0    1.0   24.0       32.31     0.538     6.575  65.2      24.7       4.98   \n",
       "1    1.0   21.6       37.07     0.469     6.421  78.9      22.2       9.14   \n",
       "2    1.0   34.7       37.07     0.469     7.185  61.1      22.2       4.03   \n",
       "3    1.0   33.4       32.18     0.458     6.998  45.8      21.3       2.94   \n",
       "4    1.0   36.2       32.18     0.458     7.147  54.2      21.3       5.33   \n",
       "\n",
       "   n_hos_beds  n_hot_rooms  rainfall     parks  avg_dist  airport_YES  \\\n",
       "0       5.480     11.19200        23  0.049347    4.0875            1   \n",
       "1       7.332     12.17280        42  0.046146    4.9675            0   \n",
       "2       7.394     46.19856        38  0.045764    4.9675            0   \n",
       "3       9.268     11.26720        45  0.047151    6.0650            1   \n",
       "4       8.824     11.28960        55  0.039474    6.0625            0   \n",
       "\n",
       "   waterbody_Lake  waterbody_Lake and River  waterbody_River  \n",
       "0               0                         0                1  \n",
       "1               1                         0                0  \n",
       "2               0                         0                0  \n",
       "3               1                         0                0  \n",
       "4               1                         0                0  "
      ]
     },
     "execution_count": 30,
     "metadata": {},
     "output_type": "execute_result"
    }
   ],
   "source": [
    "x_cons.head()"
   ]
  },
  {
   "cell_type": "code",
   "execution_count": 31,
   "id": "f21676d0",
   "metadata": {},
   "outputs": [],
   "source": [
    "import statsmodels.discrete.discrete_model as sm"
   ]
  },
  {
   "cell_type": "code",
   "execution_count": 32,
   "id": "82a7762b",
   "metadata": {},
   "outputs": [
    {
     "name": "stdout",
     "output_type": "stream",
     "text": [
      "Optimization terminated successfully.\n",
      "         Current function value: 0.556433\n",
      "         Iterations 6\n"
     ]
    }
   ],
   "source": [
    "logit=sm.Logit(y,x_cons).fit()"
   ]
  },
  {
   "cell_type": "markdown",
   "id": "04e47cb1",
   "metadata": {},
   "source": [
    "logit model using statsmodel"
   ]
  },
  {
   "cell_type": "code",
   "execution_count": 33,
   "id": "cc5612ab",
   "metadata": {},
   "outputs": [
    {
     "data": {
      "text/html": [
       "<table class=\"simpletable\">\n",
       "<caption>Logit Regression Results</caption>\n",
       "<tr>\n",
       "  <th>Dep. Variable:</th>         <td>Sold</td>       <th>  No. Observations:  </th>  <td>   506</td>  \n",
       "</tr>\n",
       "<tr>\n",
       "  <th>Model:</th>                 <td>Logit</td>      <th>  Df Residuals:      </th>  <td>   489</td>  \n",
       "</tr>\n",
       "<tr>\n",
       "  <th>Method:</th>                 <td>MLE</td>       <th>  Df Model:          </th>  <td>    16</td>  \n",
       "</tr>\n",
       "<tr>\n",
       "  <th>Date:</th>            <td>Thu, 01 Feb 2024</td> <th>  Pseudo R-squ.:     </th>  <td>0.1924</td>  \n",
       "</tr>\n",
       "<tr>\n",
       "  <th>Time:</th>                <td>12:02:35</td>     <th>  Log-Likelihood:    </th> <td> -281.56</td> \n",
       "</tr>\n",
       "<tr>\n",
       "  <th>converged:</th>             <td>True</td>       <th>  LL-Null:           </th> <td> -348.64</td> \n",
       "</tr>\n",
       "<tr>\n",
       "  <th>Covariance Type:</th>     <td>nonrobust</td>    <th>  LLR p-value:       </th> <td>9.930e-21</td>\n",
       "</tr>\n",
       "</table>\n",
       "<table class=\"simpletable\">\n",
       "<tr>\n",
       "              <td></td>                <th>coef</th>     <th>std err</th>      <th>z</th>      <th>P>|z|</th>  <th>[0.025</th>    <th>0.975]</th>  \n",
       "</tr>\n",
       "<tr>\n",
       "  <th>const</th>                    <td>   -2.1383</td> <td>    2.649</td> <td>   -0.807</td> <td> 0.420</td> <td>   -7.331</td> <td>    3.054</td>\n",
       "</tr>\n",
       "<tr>\n",
       "  <th>price</th>                    <td>   -0.2741</td> <td>    0.033</td> <td>   -8.313</td> <td> 0.000</td> <td>   -0.339</td> <td>   -0.209</td>\n",
       "</tr>\n",
       "<tr>\n",
       "  <th>resid_area</th>               <td>    0.0192</td> <td>    0.027</td> <td>    0.720</td> <td> 0.471</td> <td>   -0.033</td> <td>    0.071</td>\n",
       "</tr>\n",
       "<tr>\n",
       "  <th>air_qual</th>                 <td>   -7.4183</td> <td>    2.691</td> <td>   -2.757</td> <td> 0.006</td> <td>  -12.693</td> <td>   -2.144</td>\n",
       "</tr>\n",
       "<tr>\n",
       "  <th>room_num</th>                 <td>    1.1067</td> <td>    0.277</td> <td>    4.001</td> <td> 0.000</td> <td>    0.565</td> <td>    1.649</td>\n",
       "</tr>\n",
       "<tr>\n",
       "  <th>age</th>                      <td>   -0.0020</td> <td>    0.007</td> <td>   -0.302</td> <td> 0.762</td> <td>   -0.015</td> <td>    0.011</td>\n",
       "</tr>\n",
       "<tr>\n",
       "  <th>teachers</th>                 <td>    0.3150</td> <td>    0.064</td> <td>    4.937</td> <td> 0.000</td> <td>    0.190</td> <td>    0.440</td>\n",
       "</tr>\n",
       "<tr>\n",
       "  <th>poor_prop</th>                <td>   -0.2077</td> <td>    0.034</td> <td>   -6.149</td> <td> 0.000</td> <td>   -0.274</td> <td>   -0.141</td>\n",
       "</tr>\n",
       "<tr>\n",
       "  <th>n_hos_beds</th>               <td>    0.1760</td> <td>    0.071</td> <td>    2.467</td> <td> 0.014</td> <td>    0.036</td> <td>    0.316</td>\n",
       "</tr>\n",
       "<tr>\n",
       "  <th>n_hot_rooms</th>              <td>   -0.0742</td> <td>    0.052</td> <td>   -1.439</td> <td> 0.150</td> <td>   -0.175</td> <td>    0.027</td>\n",
       "</tr>\n",
       "<tr>\n",
       "  <th>rainfall</th>                 <td>   -0.0033</td> <td>    0.008</td> <td>   -0.394</td> <td> 0.693</td> <td>   -0.020</td> <td>    0.013</td>\n",
       "</tr>\n",
       "<tr>\n",
       "  <th>parks</th>                    <td>   29.1089</td> <td>   24.177</td> <td>    1.204</td> <td> 0.229</td> <td>  -18.277</td> <td>   76.495</td>\n",
       "</tr>\n",
       "<tr>\n",
       "  <th>avg_dist</th>                 <td>   -0.4017</td> <td>    0.098</td> <td>   -4.118</td> <td> 0.000</td> <td>   -0.593</td> <td>   -0.211</td>\n",
       "</tr>\n",
       "<tr>\n",
       "  <th>airport_YES</th>              <td>   -0.1524</td> <td>    0.211</td> <td>   -0.723</td> <td> 0.469</td> <td>   -0.565</td> <td>    0.261</td>\n",
       "</tr>\n",
       "<tr>\n",
       "  <th>waterbody_Lake</th>           <td>   -0.1032</td> <td>    0.304</td> <td>   -0.340</td> <td> 0.734</td> <td>   -0.698</td> <td>    0.492</td>\n",
       "</tr>\n",
       "<tr>\n",
       "  <th>waterbody_Lake and River</th> <td>   -0.0626</td> <td>    0.328</td> <td>   -0.191</td> <td> 0.849</td> <td>   -0.705</td> <td>    0.580</td>\n",
       "</tr>\n",
       "<tr>\n",
       "  <th>waterbody_River</th>          <td>    0.2394</td> <td>    0.256</td> <td>    0.937</td> <td> 0.349</td> <td>   -0.262</td> <td>    0.740</td>\n",
       "</tr>\n",
       "</table>"
      ],
      "text/plain": [
       "<class 'statsmodels.iolib.summary.Summary'>\n",
       "\"\"\"\n",
       "                           Logit Regression Results                           \n",
       "==============================================================================\n",
       "Dep. Variable:                   Sold   No. Observations:                  506\n",
       "Model:                          Logit   Df Residuals:                      489\n",
       "Method:                           MLE   Df Model:                           16\n",
       "Date:                Thu, 01 Feb 2024   Pseudo R-squ.:                  0.1924\n",
       "Time:                        12:02:35   Log-Likelihood:                -281.56\n",
       "converged:                       True   LL-Null:                       -348.64\n",
       "Covariance Type:            nonrobust   LLR p-value:                 9.930e-21\n",
       "============================================================================================\n",
       "                               coef    std err          z      P>|z|      [0.025      0.975]\n",
       "--------------------------------------------------------------------------------------------\n",
       "const                       -2.1383      2.649     -0.807      0.420      -7.331       3.054\n",
       "price                       -0.2741      0.033     -8.313      0.000      -0.339      -0.209\n",
       "resid_area                   0.0192      0.027      0.720      0.471      -0.033       0.071\n",
       "air_qual                    -7.4183      2.691     -2.757      0.006     -12.693      -2.144\n",
       "room_num                     1.1067      0.277      4.001      0.000       0.565       1.649\n",
       "age                         -0.0020      0.007     -0.302      0.762      -0.015       0.011\n",
       "teachers                     0.3150      0.064      4.937      0.000       0.190       0.440\n",
       "poor_prop                   -0.2077      0.034     -6.149      0.000      -0.274      -0.141\n",
       "n_hos_beds                   0.1760      0.071      2.467      0.014       0.036       0.316\n",
       "n_hot_rooms                 -0.0742      0.052     -1.439      0.150      -0.175       0.027\n",
       "rainfall                    -0.0033      0.008     -0.394      0.693      -0.020       0.013\n",
       "parks                       29.1089     24.177      1.204      0.229     -18.277      76.495\n",
       "avg_dist                    -0.4017      0.098     -4.118      0.000      -0.593      -0.211\n",
       "airport_YES                 -0.1524      0.211     -0.723      0.469      -0.565       0.261\n",
       "waterbody_Lake              -0.1032      0.304     -0.340      0.734      -0.698       0.492\n",
       "waterbody_Lake and River    -0.0626      0.328     -0.191      0.849      -0.705       0.580\n",
       "waterbody_River              0.2394      0.256      0.937      0.349      -0.262       0.740\n",
       "============================================================================================\n",
       "\"\"\""
      ]
     },
     "execution_count": 33,
     "metadata": {},
     "output_type": "execute_result"
    }
   ],
   "source": [
    "logit.summary()"
   ]
  },
  {
   "cell_type": "markdown",
   "id": "c8e3ddb2",
   "metadata": {},
   "source": [
    "logit with multiple independent variables"
   ]
  },
  {
   "cell_type": "code",
   "execution_count": 34,
   "id": "187dabce",
   "metadata": {},
   "outputs": [],
   "source": [
    "x_m=df.loc[:,df.columns!='Sold']"
   ]
  },
  {
   "cell_type": "code",
   "execution_count": 35,
   "id": "842f585b",
   "metadata": {},
   "outputs": [],
   "source": [
    "y_m=df['Sold']"
   ]
  },
  {
   "cell_type": "code",
   "execution_count": 36,
   "id": "a0fd5e1a",
   "metadata": {},
   "outputs": [],
   "source": [
    "log_rm=LogisticRegression()"
   ]
  },
  {
   "cell_type": "code",
   "execution_count": 37,
   "id": "1f893f52",
   "metadata": {},
   "outputs": [
    {
     "name": "stderr",
     "output_type": "stream",
     "text": [
      "C:\\ProgramData\\Anaconda3\\lib\\site-packages\\sklearn\\linear_model\\_logistic.py:763: ConvergenceWarning: lbfgs failed to converge (status=1):\n",
      "STOP: TOTAL NO. of ITERATIONS REACHED LIMIT.\n",
      "\n",
      "Increase the number of iterations (max_iter) or scale the data as shown in:\n",
      "    https://scikit-learn.org/stable/modules/preprocessing.html\n",
      "Please also refer to the documentation for alternative solver options:\n",
      "    https://scikit-learn.org/stable/modules/linear_model.html#logistic-regression\n",
      "  n_iter_i = _check_optimize_result(\n"
     ]
    },
    {
     "data": {
      "text/plain": [
       "LogisticRegression()"
      ]
     },
     "execution_count": 37,
     "metadata": {},
     "output_type": "execute_result"
    }
   ],
   "source": [
    "log_rm.fit(x_m,y_m)"
   ]
  },
  {
   "cell_type": "code",
   "execution_count": 38,
   "id": "c211739b",
   "metadata": {},
   "outputs": [
    {
     "data": {
      "text/plain": [
       "array([[-0.2463507 , -0.01729737, -0.11019168,  0.86256118, -0.00599841,\n",
       "         0.228208  , -0.21020969,  0.18007445, -0.09087854, -0.00704979,\n",
       "        -0.00499194, -0.32611478, -0.10520967, -0.09486694, -0.0151227 ,\n",
       "         0.20179273]])"
      ]
     },
     "execution_count": 38,
     "metadata": {},
     "output_type": "execute_result"
    }
   ],
   "source": [
    "log_rm.coef_"
   ]
  },
  {
   "cell_type": "code",
   "execution_count": 39,
   "id": "0b0d88e0",
   "metadata": {},
   "outputs": [
    {
     "data": {
      "text/plain": [
       "array([0.01671119])"
      ]
     },
     "execution_count": 39,
     "metadata": {},
     "output_type": "execute_result"
    }
   ],
   "source": [
    "log_rm.intercept_"
   ]
  },
  {
   "cell_type": "markdown",
   "id": "3255d636",
   "metadata": {},
   "source": [
    "Evaluating model performance"
   ]
  },
  {
   "cell_type": "code",
   "execution_count": 40,
   "id": "26c20703",
   "metadata": {},
   "outputs": [],
   "source": [
    "from sklearn.metrics import precision_score,recall_score,roc_auc_score"
   ]
  },
  {
   "cell_type": "code",
   "execution_count": 41,
   "id": "a92e5018",
   "metadata": {},
   "outputs": [
    {
     "data": {
      "text/plain": [
       "0.6190476190476191"
      ]
     },
     "execution_count": 41,
     "metadata": {},
     "output_type": "execute_result"
    }
   ],
   "source": [
    "precision_score(y_test,y_pred)"
   ]
  },
  {
   "cell_type": "code",
   "execution_count": 42,
   "id": "daacd675",
   "metadata": {},
   "outputs": [
    {
     "data": {
      "text/plain": [
       "0.5652173913043478"
      ]
     },
     "execution_count": 42,
     "metadata": {},
     "output_type": "execute_result"
    }
   ],
   "source": [
    "recall_score(y_test,y_pred)"
   ]
  },
  {
   "cell_type": "code",
   "execution_count": 43,
   "id": "cb4523c7",
   "metadata": {},
   "outputs": [
    {
     "data": {
      "text/plain": [
       "0.639751552795031"
      ]
     },
     "execution_count": 43,
     "metadata": {},
     "output_type": "execute_result"
    }
   ],
   "source": [
    "roc_auc_score(y_test,y_pred)"
   ]
  },
  {
   "cell_type": "markdown",
   "id": "2c0e7d87",
   "metadata": {},
   "source": [
    "# K-Nearest Neigbours"
   ]
  },
  {
   "cell_type": "code",
   "execution_count": 44,
   "id": "40f3e2ee",
   "metadata": {},
   "outputs": [],
   "source": [
    "from sklearn import preprocessing"
   ]
  },
  {
   "cell_type": "code",
   "execution_count": 45,
   "id": "9476b5fc",
   "metadata": {},
   "outputs": [],
   "source": [
    "scaler=preprocessing.StandardScaler().fit(x_train)\n",
    "x_train_s=scaler.transform(x_train)"
   ]
  },
  {
   "cell_type": "code",
   "execution_count": 46,
   "id": "2b987b0d",
   "metadata": {},
   "outputs": [],
   "source": [
    "scaler=preprocessing.StandardScaler().fit(x_test)\n",
    "x_test_s=scaler.transform(x_test)"
   ]
  },
  {
   "cell_type": "code",
   "execution_count": 47,
   "id": "af2a8106",
   "metadata": {},
   "outputs": [],
   "source": [
    "from sklearn.neighbors import KNeighborsClassifier"
   ]
  },
  {
   "cell_type": "code",
   "execution_count": 48,
   "id": "369d1c92",
   "metadata": {},
   "outputs": [
    {
     "data": {
      "text/plain": [
       "KNeighborsClassifier(n_neighbors=1)"
      ]
     },
     "execution_count": 48,
     "metadata": {},
     "output_type": "execute_result"
    }
   ],
   "source": [
    "knn_cl1=KNeighborsClassifier(n_neighbors=1)\n",
    "knn_cl1.fit(x_train_s,y_train)"
   ]
  },
  {
   "cell_type": "code",
   "execution_count": 49,
   "id": "4c75fac4",
   "metadata": {},
   "outputs": [
    {
     "data": {
      "text/plain": [
       "array([[34, 22],\n",
       "       [22, 24]], dtype=int64)"
      ]
     },
     "execution_count": 49,
     "metadata": {},
     "output_type": "execute_result"
    }
   ],
   "source": [
    "confusion_matrix(y_test,knn_cl1.predict(x_test_s))"
   ]
  },
  {
   "cell_type": "code",
   "execution_count": 50,
   "id": "298af181",
   "metadata": {},
   "outputs": [
    {
     "data": {
      "text/plain": [
       "0.5686274509803921"
      ]
     },
     "execution_count": 50,
     "metadata": {},
     "output_type": "execute_result"
    }
   ],
   "source": [
    "accuracy_score(y_test,knn_cl1.predict(x_test_s))"
   ]
  },
  {
   "cell_type": "markdown",
   "id": "abaa97e1",
   "metadata": {},
   "source": [
    "Running KNN for several value of k Using Grind search"
   ]
  },
  {
   "cell_type": "code",
   "execution_count": 51,
   "id": "285a45f5",
   "metadata": {},
   "outputs": [],
   "source": [
    "from sklearn.model_selection import GridSearchCV"
   ]
  },
  {
   "cell_type": "code",
   "execution_count": 52,
   "id": "f59ecd95",
   "metadata": {},
   "outputs": [],
   "source": [
    "params={'n_neighbors':[1,2,3,4,5,6,7,8,9,10]}"
   ]
  },
  {
   "cell_type": "code",
   "execution_count": 53,
   "id": "118d59d5",
   "metadata": {},
   "outputs": [
    {
     "data": {
      "text/plain": [
       "GridSearchCV(estimator=KNeighborsClassifier(),\n",
       "             param_grid={'n_neighbors': [1, 2, 3, 4, 5, 6, 7, 8, 9, 10]})"
      ]
     },
     "execution_count": 53,
     "metadata": {},
     "output_type": "execute_result"
    }
   ],
   "source": [
    "grid=GridSearchCV(KNeighborsClassifier(),params)\n",
    "grid.fit(x_train_s,y_train)"
   ]
  },
  {
   "cell_type": "code",
   "execution_count": 54,
   "id": "f3f0af60",
   "metadata": {},
   "outputs": [
    {
     "data": {
      "text/plain": [
       "{'n_neighbors': 8}"
      ]
     },
     "execution_count": 54,
     "metadata": {},
     "output_type": "execute_result"
    }
   ],
   "source": [
    "grid.best_params_"
   ]
  },
  {
   "cell_type": "code",
   "execution_count": 55,
   "id": "146b4e93",
   "metadata": {},
   "outputs": [
    {
     "data": {
      "text/plain": [
       "KNeighborsClassifier(n_neighbors=8)"
      ]
     },
     "execution_count": 55,
     "metadata": {},
     "output_type": "execute_result"
    }
   ],
   "source": [
    "Optimized_KNN = grid.best_estimator_\n",
    "Optimized_KNN"
   ]
  },
  {
   "cell_type": "code",
   "execution_count": 56,
   "id": "a8a5e502",
   "metadata": {},
   "outputs": [],
   "source": [
    "y_pred_knopt=Optimized_KNN.predict(x_test_s)"
   ]
  },
  {
   "cell_type": "code",
   "execution_count": 57,
   "id": "7c2e3f6a",
   "metadata": {},
   "outputs": [
    {
     "data": {
      "text/plain": [
       "0.5784313725490197"
      ]
     },
     "execution_count": 57,
     "metadata": {},
     "output_type": "execute_result"
    }
   ],
   "source": [
    "accuracy_score(y_test,y_pred_knopt)"
   ]
  },
  {
   "cell_type": "markdown",
   "id": "9c1cc479",
   "metadata": {},
   "source": [
    "Finding optimak k in Knn algorithm"
   ]
  },
  {
   "cell_type": "code",
   "execution_count": 58,
   "id": "8adaa6e6",
   "metadata": {},
   "outputs": [],
   "source": [
    "error_rate=[]\n",
    "for i in range(1,40):\n",
    "    knn=KNeighborsClassifier(n_neighbors=i)\n",
    "    knn.fit(x_train_s,y_train)\n",
    "    pred=knn.predict(x_test_s)\n",
    "    error_rate.append(np.mean(pred!=y_test))"
   ]
  },
  {
   "cell_type": "code",
   "execution_count": 59,
   "id": "53334e88",
   "metadata": {},
   "outputs": [],
   "source": [
    "import matplotlib.pyplot as plt"
   ]
  },
  {
   "cell_type": "code",
   "execution_count": 60,
   "id": "356680f9",
   "metadata": {},
   "outputs": [
    {
     "name": "stdout",
     "output_type": "stream",
     "text": [
      "Minimum Error:- 0.3333333333333333  at K = 8\n"
     ]
    },
    {
     "data": {
      "image/png": "[encoded data removed]",
      "text/plain": [
       "<Figure size 720x432 with 1 Axes>"
      ]
     },
     "metadata": {
      "needs_background": "light"
     },
     "output_type": "display_data"
    }
   ],
   "source": [
    "plt.figure(figsize=(10,6))\n",
    "plt.plot(range(1,40),error_rate,color='blue',linestyle='dashed',marker='o',markerfacecolor='red',markersize=10)\n",
    "plt.title('Error_rate vs K value')\n",
    "plt.xlabel('k')\n",
    "plt.ylabel('error_rate')\n",
    "print(\"Minimum Error:-\", min(error_rate),\" at K =\",error_rate.index(min(error_rate)))"
   ]
  },
  {
   "cell_type": "code",
   "execution_count": 61,
   "id": "9865327f",
   "metadata": {},
   "outputs": [],
   "source": [
    "acc=[]\n",
    "from sklearn import metrics\n",
    "for i in range(1,40):\n",
    "    knn=KNeighborsClassifier(n_neighbors=i)\n",
    "    knn.fit(x_train_s,y_train)\n",
    "    pred=knn.predict(x_test_s)\n",
    "    acc.append(metrics.accuracy_score(y_test,pred))"
   ]
  },
  {
   "cell_type": "code",
   "execution_count": 62,
   "id": "fed5c3f3",
   "metadata": {},
   "outputs": [
    {
     "name": "stdout",
     "output_type": "stream",
     "text": [
      "Accuracy score:- 0.6666666666666666  at K = 8\n"
     ]
    },
    {
     "data": {
      "image/png": "[encoded data removed]",
      "text/plain": [
       "<Figure size 720x432 with 1 Axes>"
      ]
     },
     "metadata": {
      "needs_background": "light"
     },
     "output_type": "display_data"
    }
   ],
   "source": [
    "plt.figure(figsize=(10,6))\n",
    "plt.plot(range(1,40),acc,color='blue',linestyle='dashed',marker='o',markerfacecolor='red',markersize=10)\n",
    "plt.title('Accuracy_score vs K value')\n",
    "plt.xlabel('K')\n",
    "plt.ylabel('Accuracy_score')\n",
    "print(\"Accuracy score:-\", max(acc),\" at K =\",acc.index(max(acc)))"
   ]
  },
  {
   "cell_type": "markdown",
   "id": "adbcf62c",
   "metadata": {},
   "source": [
    "### Summary\n",
    "1.We obtain an accuracy of 0.617 at k=2, which is higher than efficiency calulated at k = 7.                                   \n",
    "2.Use of error plot and accuracy plot find the most favourabke value of K.                                                     \n",
    "3.KNN is broadly used in areas of **pattern recognition** and **analytical evaluation**                                         \n",
    "4.OPtimal K value ussually found is the **square root of N** whre N is the total number of samples."
   ]
  },
  {
   "cell_type": "markdown",
   "id": "786d604d",
   "metadata": {},
   "source": [
    "# Decision Tree\n",
    "\n",
    "### types\n",
    "1.Regression Tree- used for quantitative target variable eg predicting rainfall.                                                    goal is to minimise RSS                                                                                                   \n",
    "2.Classification tree- used for discrete categorical variables eg predicting win or loss.                                       \n",
    "\n",
    "Stopping criteria in decision tree:                                                                                            \n",
    "1.Minimum observations at a node                                                           \n",
    "                                    2.Minimum observations at a leaf node                                                       \n",
    "                                    3.Maximum depth                                                                             \n",
    "                                    -These help curb overfitting of the tree model"
   ]
  },
  {
   "cell_type": "code",
   "execution_count": 63,
   "id": "6bedf0c5",
   "metadata": {},
   "outputs": [],
   "source": [
    "from sklearn import tree"
   ]
  },
  {
   "cell_type": "code",
   "execution_count": 64,
   "id": "59317586",
   "metadata": {},
   "outputs": [
    {
     "data": {
      "text/plain": [
       "Index(['price', 'resid_area', 'air_qual', 'room_num', 'age', 'teachers',\n",
       "       'poor_prop', 'n_hos_beds', 'n_hot_rooms', 'rainfall', 'parks', 'Sold',\n",
       "       'avg_dist', 'airport_YES', 'waterbody_Lake', 'waterbody_Lake and River',\n",
       "       'waterbody_River'],\n",
       "      dtype='object')"
      ]
     },
     "execution_count": 64,
     "metadata": {},
     "output_type": "execute_result"
    }
   ],
   "source": [
    "df.columns"
   ]
  },
  {
   "cell_type": "markdown",
   "id": "faccf343",
   "metadata": {},
   "source": [
    "### Regression Tree"
   ]
  },
  {
   "cell_type": "code",
   "execution_count": 65,
   "id": "aaddee51",
   "metadata": {},
   "outputs": [],
   "source": [
    "y_d=df['price']\n",
    "x_d=df.loc[:,df.columns!='price']"
   ]
  },
  {
   "cell_type": "code",
   "execution_count": 66,
   "id": "d5078ac4",
   "metadata": {},
   "outputs": [],
   "source": [
    "xtrain,xtest,ytrain,ytest=train_test_split(x_d,y_d,test_size=0.2,random_state=42,shuffle= True)"
   ]
  },
  {
   "cell_type": "code",
   "execution_count": 67,
   "id": "29119eb2",
   "metadata": {},
   "outputs": [
    {
     "data": {
      "text/plain": [
       "DecisionTreeRegressor(max_depth=3)"
      ]
     },
     "execution_count": 67,
     "metadata": {},
     "output_type": "execute_result"
    }
   ],
   "source": [
    "regtree=tree.DecisionTreeRegressor(max_depth=3)\n",
    "regtree.fit(xtrain,ytrain)"
   ]
  },
  {
   "cell_type": "code",
   "execution_count": 68,
   "id": "61a2c3a0",
   "metadata": {},
   "outputs": [],
   "source": [
    "ypred=regtree.predict(xtest)"
   ]
  },
  {
   "cell_type": "markdown",
   "id": "09f4e16a",
   "metadata": {},
   "source": [
    "### Model performance"
   ]
  },
  {
   "cell_type": "code",
   "execution_count": 69,
   "id": "1d63496b",
   "metadata": {},
   "outputs": [],
   "source": [
    "from sklearn.metrics import mean_squared_error,r2_score"
   ]
  },
  {
   "cell_type": "code",
   "execution_count": 70,
   "id": "25f52cfb",
   "metadata": {},
   "outputs": [
    {
     "data": {
      "text/plain": [
       "13.54560032955899"
      ]
     },
     "execution_count": 70,
     "metadata": {},
     "output_type": "execute_result"
    }
   ],
   "source": [
    "mean_squared_error(ytest,ypred)"
   ]
  },
  {
   "cell_type": "code",
   "execution_count": 71,
   "id": "ebbaad6f",
   "metadata": {},
   "outputs": [
    {
     "data": {
      "text/plain": [
       "0.8163165489575802"
      ]
     },
     "execution_count": 71,
     "metadata": {},
     "output_type": "execute_result"
    }
   ],
   "source": [
    "r2_score(ytest,ypred)"
   ]
  },
  {
   "cell_type": "code",
   "execution_count": 72,
   "id": "93ff750e",
   "metadata": {},
   "outputs": [
    {
     "data": {
      "text/plain": [
       "0.8272509859216413"
      ]
     },
     "execution_count": 72,
     "metadata": {},
     "output_type": "execute_result"
    }
   ],
   "source": [
    "r2_score(ytrain,regtree.predict(xtrain))"
   ]
  },
  {
   "cell_type": "markdown",
   "id": "5ae05e5a",
   "metadata": {},
   "source": [
    "### Plotting Decision Tree"
   ]
  },
  {
   "cell_type": "code",
   "execution_count": 73,
   "id": "cf8b063c",
   "metadata": {},
   "outputs": [],
   "source": [
    "dot_data=tree.export_graphviz(regtree,out_file=None)"
   ]
  },
  {
   "cell_type": "code",
   "execution_count": 74,
   "id": "dba7d14b",
   "metadata": {},
   "outputs": [],
   "source": [
    "from IPython.display import Image"
   ]
  },
  {
   "cell_type": "markdown",
   "id": "19fd124a",
   "metadata": {},
   "source": [
    "#!conda install Pydotplus"
   ]
  },
  {
   "cell_type": "code",
   "execution_count": 75,
   "id": "0bb4f667",
   "metadata": {},
   "outputs": [],
   "source": [
    "#graph=Pydotplus.graph_from_dot_data(dot_data)\n",
    "#Image(graph.create_png())"
   ]
  },
  {
   "cell_type": "markdown",
   "id": "ed07c14d",
   "metadata": {},
   "source": [
    "### Controlling tree growth"
   ]
  },
  {
   "cell_type": "code",
   "execution_count": 76,
   "id": "0455518b",
   "metadata": {},
   "outputs": [
    {
     "data": {
      "text/plain": [
       "0.8417613650175033"
      ]
     },
     "execution_count": 76,
     "metadata": {},
     "output_type": "execute_result"
    }
   ],
   "source": [
    "regtree1=tree.DecisionTreeRegressor(min_samples_split=3)\n",
    "regtree1.fit(xtrain,ytrain)\n",
    "ypred1=regtree1.predict(xtest)\n",
    "r2_score(ytest,ypred1)"
   ]
  },
  {
   "cell_type": "code",
   "execution_count": 77,
   "id": "6c7e2731",
   "metadata": {},
   "outputs": [
    {
     "data": {
      "text/plain": [
       "0.7632763117962669"
      ]
     },
     "execution_count": 77,
     "metadata": {},
     "output_type": "execute_result"
    }
   ],
   "source": [
    "regtree2=tree.DecisionTreeRegressor(min_samples_leaf=25)\n",
    "regtree2.fit(xtrain,ytrain)\n",
    "ypred2=regtree2.predict(xtest)\n",
    "r2_score(ytest,ypred2)"
   ]
  },
  {
   "cell_type": "markdown",
   "id": "c4dd7072",
   "metadata": {},
   "source": [
    "### Classification tree"
   ]
  },
  {
   "cell_type": "code",
   "execution_count": 78,
   "id": "376fc5d2",
   "metadata": {},
   "outputs": [],
   "source": [
    "clstree=tree.DecisionTreeClassifier(max_depth=3)"
   ]
  },
  {
   "cell_type": "code",
   "execution_count": 79,
   "id": "f8e0b8a9",
   "metadata": {},
   "outputs": [
    {
     "data": {
      "text/plain": [
       "DecisionTreeClassifier(max_depth=3)"
      ]
     },
     "execution_count": 79,
     "metadata": {},
     "output_type": "execute_result"
    }
   ],
   "source": [
    "clstree.fit(x_train,y_train)"
   ]
  },
  {
   "cell_type": "code",
   "execution_count": 80,
   "id": "dfd3d11b",
   "metadata": {},
   "outputs": [
    {
     "data": {
      "text/plain": [
       "array([[26, 30],\n",
       "       [ 8, 38]], dtype=int64)"
      ]
     },
     "execution_count": 80,
     "metadata": {},
     "output_type": "execute_result"
    }
   ],
   "source": [
    "yc_pred=clstree.predict(x_test)\n",
    "confusion_matrix(y_test,yc_pred)"
   ]
  },
  {
   "cell_type": "code",
   "execution_count": 81,
   "id": "b523ebab",
   "metadata": {},
   "outputs": [
    {
     "data": {
      "text/plain": [
       "0.6274509803921569"
      ]
     },
     "execution_count": 81,
     "metadata": {},
     "output_type": "execute_result"
    }
   ],
   "source": [
    "accuracy_score(y_test,yc_pred)"
   ]
  },
  {
   "cell_type": "code",
   "execution_count": 82,
   "id": "8beb266f",
   "metadata": {},
   "outputs": [
    {
     "data": {
      "text/plain": [
       "array([[ 83, 137],\n",
       "       [  8, 176]], dtype=int64)"
      ]
     },
     "execution_count": 82,
     "metadata": {},
     "output_type": "execute_result"
    }
   ],
   "source": [
    "confusion_matrix(y_train,clstree.predict(x_train))"
   ]
  },
  {
   "cell_type": "code",
   "execution_count": 83,
   "id": "48902090",
   "metadata": {},
   "outputs": [
    {
     "data": {
      "text/plain": [
       "0.6410891089108911"
      ]
     },
     "execution_count": 83,
     "metadata": {},
     "output_type": "execute_result"
    }
   ],
   "source": [
    "accuracy_score(y_train,clstree.predict(x_train))"
   ]
  },
  {
   "cell_type": "markdown",
   "id": "2330431f",
   "metadata": {},
   "source": [
    "# <p style=\"padding:10px;background-color:#232323;margin:0;color:white;font-family:newtimeroman;font-size:100%;text-align:center;border-radius: 15px 50px;overflow:hidden;font-weight:500\">Ensemble Methods</p>\n"
   ]
  },
  {
   "cell_type": "markdown",
   "id": "11c0e4e5",
   "metadata": {},
   "source": [
    "### Bagging\n",
    "\n",
    "* Use sample training sets and then average of the models is calculated to get the final model\n",
    "\n",
    "* Bootstrapping is used to split the data since in most cases it is only one sample available to train the data\n",
    "\n",
    "* Using bagging trees are allowed to greow to full length this reduces bias improve accuracy"
   ]
  },
  {
   "cell_type": "code",
   "execution_count": 84,
   "id": "b079b7cb",
   "metadata": {},
   "outputs": [],
   "source": [
    "from sklearn import tree\n",
    "clftreb=tree.DecisionTreeClassifier()"
   ]
  },
  {
   "cell_type": "code",
   "execution_count": 85,
   "id": "d55f163a",
   "metadata": {},
   "outputs": [],
   "source": [
    "from sklearn.ensemble import BaggingClassifier\n",
    "bag_clf=BaggingClassifier(base_estimator=clftreb,n_estimators=1000,bootstrap=True,n_jobs=-1,random_state=42)"
   ]
  },
  {
   "cell_type": "code",
   "execution_count": 86,
   "id": "8a2f5200",
   "metadata": {},
   "outputs": [
    {
     "data": {
      "text/plain": [
       "BaggingClassifier(base_estimator=DecisionTreeClassifier(), n_estimators=1000,\n",
       "                  n_jobs=-1, random_state=42)"
      ]
     },
     "execution_count": 86,
     "metadata": {},
     "output_type": "execute_result"
    }
   ],
   "source": [
    "bag_clf.fit(x_train,y_train)"
   ]
  },
  {
   "cell_type": "code",
   "execution_count": 87,
   "id": "74f0f828",
   "metadata": {},
   "outputs": [
    {
     "data": {
      "text/plain": [
       "array([[42, 14],\n",
       "       [21, 25]], dtype=int64)"
      ]
     },
     "execution_count": 87,
     "metadata": {},
     "output_type": "execute_result"
    }
   ],
   "source": [
    "confusion_matrix(y_test,bag_clf.predict(x_test))"
   ]
  },
  {
   "cell_type": "code",
   "execution_count": 88,
   "id": "bbc02505",
   "metadata": {},
   "outputs": [
    {
     "data": {
      "text/plain": [
       "0.6568627450980392"
      ]
     },
     "execution_count": 88,
     "metadata": {},
     "output_type": "execute_result"
    }
   ],
   "source": [
    "accuracy_score(y_test,bag_clf.predict(x_test))"
   ]
  },
  {
   "cell_type": "markdown",
   "id": "f41bfbb7",
   "metadata": {},
   "source": [
    "### Random Forest\n",
    "\n",
    "* Problem with bagging is that it creates correlated trees, randonm forest decorrelates them\n",
    "\n",
    "* Random  forest  uses subset of predictor variables so thet we get different split for each model.\n",
    "\n",
    "* Different set of m predictors are selected out of p\n",
    "\n",
    "* If m = p then it is bagging\n",
    "\n",
    "* for regression m=p/3 and for classification m = sqrt(p), if values are highly correlated try a lower value of m"
   ]
  },
  {
   "cell_type": "code",
   "execution_count": 89,
   "id": "0fee16bd",
   "metadata": {},
   "outputs": [],
   "source": [
    "from sklearn.ensemble import RandomForestClassifier\n",
    "rf_clf=RandomForestClassifier(n_estimators=1000,n_jobs=-1,random_state=42)"
   ]
  },
  {
   "cell_type": "code",
   "execution_count": 90,
   "id": "37252b60",
   "metadata": {},
   "outputs": [
    {
     "data": {
      "text/plain": [
       "RandomForestClassifier(n_estimators=1000, n_jobs=-1, random_state=42)"
      ]
     },
     "execution_count": 90,
     "metadata": {},
     "output_type": "execute_result"
    }
   ],
   "source": [
    "rf_clf.fit(x_train,y_train)"
   ]
  },
  {
   "cell_type": "code",
   "execution_count": 91,
   "id": "78ac9e7f",
   "metadata": {},
   "outputs": [
    {
     "data": {
      "text/plain": [
       "array([[43, 13],\n",
       "       [22, 24]], dtype=int64)"
      ]
     },
     "execution_count": 91,
     "metadata": {},
     "output_type": "execute_result"
    }
   ],
   "source": [
    "confusion_matrix(y_test,rf_clf.predict(x_test))"
   ]
  },
  {
   "cell_type": "code",
   "execution_count": 92,
   "id": "9efc3ea6",
   "metadata": {},
   "outputs": [
    {
     "data": {
      "text/plain": [
       "0.6568627450980392"
      ]
     },
     "execution_count": 92,
     "metadata": {},
     "output_type": "execute_result"
    }
   ],
   "source": [
    "accuracy_score(y_test,rf_clf.predict(x_test))"
   ]
  },
  {
   "cell_type": "markdown",
   "id": "74cf3f79",
   "metadata": {},
   "source": [
    "### Using grind search"
   ]
  },
  {
   "cell_type": "code",
   "execution_count": 93,
   "id": "56e3cd36",
   "metadata": {},
   "outputs": [],
   "source": [
    "from sklearn.model_selection import GridSearchCV"
   ]
  },
  {
   "cell_type": "code",
   "execution_count": 94,
   "id": "d639fc07",
   "metadata": {},
   "outputs": [],
   "source": [
    "rf_clf1=RandomForestClassifier(n_estimators=250,random_state=42)"
   ]
  },
  {
   "cell_type": "code",
   "execution_count": 95,
   "id": "a514aa1f",
   "metadata": {},
   "outputs": [],
   "source": [
    "param_grid={\"max_features\":[4,5,6,7,8,9,10],\"min_samples_split\":[2,3,10],}"
   ]
  },
  {
   "cell_type": "code",
   "execution_count": 96,
   "id": "56fa7049",
   "metadata": {},
   "outputs": [],
   "source": [
    "gridsearch=GridSearchCV(rf_clf1,param_grid,n_jobs=-1,cv=5,scoring='accuracy')"
   ]
  },
  {
   "cell_type": "code",
   "execution_count": 97,
   "id": "01c42152",
   "metadata": {},
   "outputs": [
    {
     "data": {
      "text/plain": [
       "GridSearchCV(cv=5,\n",
       "             estimator=RandomForestClassifier(n_estimators=250,\n",
       "                                              random_state=42),\n",
       "             n_jobs=-1,\n",
       "             param_grid={'max_features': [4, 5, 6, 7, 8, 9, 10],\n",
       "                         'min_samples_split': [2, 3, 10]},\n",
       "             scoring='accuracy')"
      ]
     },
     "execution_count": 97,
     "metadata": {},
     "output_type": "execute_result"
    }
   ],
   "source": [
    "gridsearch.fit(x_train,y_train)"
   ]
  },
  {
   "cell_type": "code",
   "execution_count": 98,
   "id": "6182de5b",
   "metadata": {},
   "outputs": [
    {
     "data": {
      "text/plain": [
       "{'max_features': 9, 'min_samples_split': 2}"
      ]
     },
     "execution_count": 98,
     "metadata": {},
     "output_type": "execute_result"
    }
   ],
   "source": [
    "gridsearch.best_params_"
   ]
  },
  {
   "cell_type": "code",
   "execution_count": 99,
   "id": "b1749839",
   "metadata": {},
   "outputs": [],
   "source": [
    "cvrf=gridsearch.best_estimator_"
   ]
  },
  {
   "cell_type": "code",
   "execution_count": 100,
   "id": "eebb69f1",
   "metadata": {},
   "outputs": [
    {
     "data": {
      "text/plain": [
       "0.696078431372549"
      ]
     },
     "execution_count": 100,
     "metadata": {},
     "output_type": "execute_result"
    }
   ],
   "source": [
    "accuracy_score(y_test,cvrf.predict(x_test))"
   ]
  },
  {
   "cell_type": "markdown",
   "id": "136a2135",
   "metadata": {},
   "source": []
  },
  {
   "cell_type": "code",
   "execution_count": 101,
   "id": "c0ab24d9",
   "metadata": {},
   "outputs": [],
   "source": [
    "#conda install -c \"conda-forge/label/cf202003\" pydotplus"
   ]
  },
  {
   "cell_type": "code",
   "execution_count": 102,
   "id": "ef31a6f9",
   "metadata": {},
   "outputs": [
    {
     "ename": "ModuleNotFoundError",
     "evalue": "No module named 'pydotplus'",
     "output_type": "error",
     "traceback": [
      "\u001b[1;31m---------------------------------------------------------------------------\u001b[0m",
      "\u001b[1;31mModuleNotFoundError\u001b[0m                       Traceback (most recent call last)",
      "\u001b[1;32m<ipython-input-102-b7d16578ff11>\u001b[0m in \u001b[0;36m<module>\u001b[1;34m\u001b[0m\n\u001b[1;32m----> 1\u001b[1;33m \u001b[1;32mimport\u001b[0m \u001b[0mpydotplus\u001b[0m\u001b[1;33m\u001b[0m\u001b[1;33m\u001b[0m\u001b[0m\n\u001b[0m",
      "\u001b[1;31mModuleNotFoundError\u001b[0m: No module named 'pydotplus'"
     ]
    }
   ],
   "source": [
    "import pydotplus"
   ]
  },
  {
   "cell_type": "code",
   "execution_count": null,
   "id": "1eb8d049",
   "metadata": {},
   "outputs": [],
   "source": [
    "import graphviz"
   ]
  },
  {
   "cell_type": "markdown",
   "id": "cad5fcc2",
   "metadata": {},
   "source": [
    "### Boosting\n",
    "\n",
    "* Process of turning a weak learner to a strong learner\n",
    "\n",
    "* \n"
   ]
  }
 ],
 "metadata": {
  "kernelspec": {
   "display_name": "Python 3",
   "language": "python",
   "name": "python3"
  },
  "language_info": {
   "codemirror_mode": {
    "name": "ipython",
    "version": 3
   },
   "file_extension": ".py",
   "mimetype": "text/x-python",
   "name": "python",
   "nbconvert_exporter": "python",
   "pygments_lexer": "ipython3",
   "version": "3.8.8"
  }
 },
 "nbformat": 4,
 "nbformat_minor": 5
}
