{
 "cells": [
  {
   "cell_type": "markdown",
   "id": "937734ae",
   "metadata": {
    "papermill": {
     "duration": 0.009518,
     "end_time": "2022-11-17T17:45:50.930965",
     "exception": false,
     "start_time": "2022-11-17T17:45:50.921447",
     "status": "completed"
    },
    "tags": []
   },
   "source": [
    "\n",
    "    \n",
    "# <p style=\"padding:10px;background-color:#232323;margin:0;color:white;font-family:newtimeroman;font-size:150%;text-align:center;border-radius: 15px 50px;overflow:hidden;font-weight:500\">K-Means Clustering</p>\n",
    "\n"
   ]
  },
  {
   "attachments": {
    "kmeansss.jfif": {
     "image/jpeg": "[encoded data removed]"
    }
   },
   "cell_type": "markdown",
   "id": "ab56a0fa",
   "metadata": {},
   "source": [
    "![kmeansss.jfif](attachment:kmeansss.jfif)"
   ]
  },
  {
   "cell_type": "markdown",
   "id": "cd925d33",
   "metadata": {
    "papermill": {
     "duration": 0.00953,
     "end_time": "2022-11-17T17:45:50.965495",
     "exception": false,
     "start_time": "2022-11-17T17:45:50.955965",
     "status": "completed"
    },
    "tags": []
   },
   "source": [
    "* K-means clustering is one of the simplest and popular unsupervised machine learning algorithms.\n",
    "\n",
    "\n",
    "* Typically, unsupervised algorithms make inferences from datasets using only input vectors without referring to known, or labelled, outcomes.\n",
    "  \n",
    "  \n",
    "* the objective of K-means is simple: group similar data points together and discover underlying patterns. To achieve this objective, K-means looks for a fixed number (k) of clusters in a dataset.\n",
    "\n",
    "\n",
    "* A cluster refers to a collection of data points aggregated together because of certain similarities.\n",
    "\n",
    "\n",
    "* You’ll define a target number k, which refers to the number of centroids you need in the dataset. A centroid is the imaginary or real location representing the center of the cluster.\n",
    "\n",
    "\n",
    "* Every data point is allocated to each of the clusters through reducing the in-cluster sum of squares.    \n",
    "\n",
    "\n",
    "* In other words, the K-means algorithm identifies k number of centroids, and then allocates every data point to the nearest cluster, while keeping the centroids as small as possible.\n",
    "\n",
    "\n",
    "* The ‘means’ in the K-means refers to averaging of the data; that is, finding the centroid."
   ]
  },
  {
   "cell_type": "markdown",
   "id": "ed860706",
   "metadata": {
    "papermill": {
     "duration": 0.008029,
     "end_time": "2022-11-17T17:45:50.982025",
     "exception": false,
     "start_time": "2022-11-17T17:45:50.973996",
     "status": "completed"
    },
    "tags": []
   },
   "source": [
    "\n",
    "    \n",
    "**For a better understanding of k-means, let's take an example from cricket.** \n",
    "\n",
    "Imagine you received data on a lot of cricket players from all over the world, which gives information on the runs scored by the player and the wickets taken by them in the last ten matches. Based on this information, we need to group the data into two clusters, namely batsman and bowlers. \n",
    "\n",
    "Let's take a look at the steps to create these clusters."
   ]
  },
  {
   "cell_type": "markdown",
   "id": "d02fa17c",
   "metadata": {
    "papermill": {
     "duration": 0.008303,
     "end_time": "2022-11-17T17:45:50.998954",
     "exception": false,
     "start_time": "2022-11-17T17:45:50.990651",
     "status": "completed"
    },
    "tags": []
   },
   "source": [
    "\n",
    "**Assign data points.**\n",
    "\n",
    "Here, we have our data set plotted on ‘x’ and ‘y’ coordinates. The information on the y-axis is about the runs scored, and on the x-axis about the wickets taken by the players. \n",
    "\n",
    "If we plot the data, this is how it would look:"
   ]
  },
  {
   "cell_type": "markdown",
   "id": "93b57968",
   "metadata": {
    "papermill": {
     "duration": 0.0082,
     "end_time": "2022-11-17T17:45:51.015717",
     "exception": false,
     "start_time": "2022-11-17T17:45:51.007517",
     "status": "completed"
    },
    "tags": []
   },
   "source": [
    "# <img src=\"https://www.simplilearn.com/ice9/free_resources_article_thumb/plot-the-data.JPG\" width=\"50%\"/>\n"
   ]
  },
  {
   "cell_type": "markdown",
   "id": "077f410b",
   "metadata": {
    "papermill": {
     "duration": 0.009002,
     "end_time": "2022-11-17T17:45:51.033094",
     "exception": false,
     "start_time": "2022-11-17T17:45:51.024092",
     "status": "completed"
    },
    "tags": []
   },
   "source": [
    "\n",
    "**We need to create the clusters, as shown below:**"
   ]
  },
  {
   "cell_type": "markdown",
   "id": "a7612978",
   "metadata": {
    "papermill": {
     "duration": 0.008345,
     "end_time": "2022-11-17T17:45:51.051054",
     "exception": false,
     "start_time": "2022-11-17T17:45:51.042709",
     "status": "completed"
    },
    "tags": []
   },
   "source": [
    "# <img src=\"https://www.simplilearn.com/ice9/free_resources_article_thumb/perform-clustering.JPG\" width=\"20%\"/>\n"
   ]
  },
  {
   "cell_type": "markdown",
   "id": "f45df569",
   "metadata": {
    "papermill": {
     "duration": 0.007928,
     "end_time": "2022-11-17T17:45:51.067232",
     "exception": false,
     "start_time": "2022-11-17T17:45:51.059304",
     "status": "completed"
    },
    "tags": []
   },
   "source": [
    "# <img src=\"https://www.simplilearn.com/ice9/free_resources_article_thumb/cluster2.JPG\" width=\"20%\"/>\n"
   ]
  },
  {
   "cell_type": "markdown",
   "id": "1e3a5370",
   "metadata": {
    "papermill": {
     "duration": 0.008078,
     "end_time": "2022-11-17T17:45:51.083495",
     "exception": false,
     "start_time": "2022-11-17T17:45:51.075417",
     "status": "completed"
    },
    "tags": []
   },
   "source": [
    "\n",
    "    \n",
    "**Considering the same data set, let us solve the problem using K-Means clustering (taking K = 2).**\n",
    "\n",
    "The first step in k-means clustering is the allocation of two centroids randomly (as K=2). Two points are assigned as centroids. Note that the points can be anywhere, as they are random points. They are called centroids, but initially, they are not the central point of a given data set. "
   ]
  },
  {
   "cell_type": "markdown",
   "id": "e45015d3",
   "metadata": {
    "papermill": {
     "duration": 0.008027,
     "end_time": "2022-11-17T17:45:51.099765",
     "exception": false,
     "start_time": "2022-11-17T17:45:51.091738",
     "status": "completed"
    },
    "tags": []
   },
   "source": [
    "# <img src=\"https://www.simplilearn.com/ice9/free_resources_article_thumb/centroids.JPG\" width=\"20%\"/>\n"
   ]
  },
  {
   "cell_type": "markdown",
   "id": "21800e26",
   "metadata": {
    "papermill": {
     "duration": 0.008408,
     "end_time": "2022-11-17T17:45:51.116305",
     "exception": false,
     "start_time": "2022-11-17T17:45:51.107897",
     "status": "completed"
    },
    "tags": []
   },
   "source": [
    "\n",
    "The next step is to determine the distance between each of the randomly assigned centroids' data points. For every point, the distance is measured from both the centroids, and whichever distance is less, that point is assigned to that centroid. You can see the data points attached to the centroids and represented here in blue and yellow.\n",
    "\n"
   ]
  },
  {
   "cell_type": "markdown",
   "id": "0d9da9aa",
   "metadata": {
    "papermill": {
     "duration": 0.007885,
     "end_time": "2022-11-17T17:45:51.132234",
     "exception": false,
     "start_time": "2022-11-17T17:45:51.124349",
     "status": "completed"
    },
    "tags": []
   },
   "source": [
    "# <img src=\"https://www.simplilearn.com/ice9/free_resources_article_thumb/centroids2.JPG\" width=\"20%\"/>\n"
   ]
  },
  {
   "cell_type": "markdown",
   "id": "c5ee88a1",
   "metadata": {
    "papermill": {
     "duration": 0.008179,
     "end_time": "2022-11-17T17:45:51.148606",
     "exception": false,
     "start_time": "2022-11-17T17:45:51.140427",
     "status": "completed"
    },
    "tags": []
   },
   "source": [
    "\n",
    "The next step is to determine the actual centroid for these two clusters. The original randomly allocated centroid is to be repositioned to the actual centroid of the clusters.\n"
   ]
  },
  {
   "cell_type": "markdown",
   "id": "365a18e3",
   "metadata": {
    "papermill": {
     "duration": 0.009327,
     "end_time": "2022-11-17T17:45:51.167183",
     "exception": false,
     "start_time": "2022-11-17T17:45:51.157856",
     "status": "completed"
    },
    "tags": []
   },
   "source": [
    "# <img src=\"https://www.simplilearn.com/ice9/free_resources_article_thumb/centroids3.JPG\" width=\"20%\"/>\n"
   ]
  },
  {
   "cell_type": "markdown",
   "id": "4d4e34cc",
   "metadata": {
    "papermill": {
     "duration": 0.008459,
     "end_time": "2022-11-17T17:45:51.184606",
     "exception": false,
     "start_time": "2022-11-17T17:45:51.176147",
     "status": "completed"
    },
    "tags": []
   },
   "source": [
    "\n",
    "    \n",
    "This process of calculating the distance and repositioning the centroid continues until we obtain our final cluster. Then the centroid repositioning stops.\n"
   ]
  },
  {
   "cell_type": "markdown",
   "id": "e6be9705",
   "metadata": {
    "papermill": {
     "duration": 0.008516,
     "end_time": "2022-11-17T17:45:51.201994",
     "exception": false,
     "start_time": "2022-11-17T17:45:51.193478",
     "status": "completed"
    },
    "tags": []
   },
   "source": [
    "# <img src=\"https://www.simplilearn.com/ice9/free_resources_article_thumb/centroids4.JPG\" width=\"20%\"/>\n"
   ]
  },
  {
   "cell_type": "markdown",
   "id": "7ba0b39a",
   "metadata": {
    "papermill": {
     "duration": 0.00836,
     "end_time": "2022-11-17T17:45:51.219145",
     "exception": false,
     "start_time": "2022-11-17T17:45:51.210785",
     "status": "completed"
    },
    "tags": []
   },
   "source": [
    "\n",
    "As seen above, the centroid doesn't need anymore repositioning, and it means the algorithm has converged, and we have the two clusters with a centroid. "
   ]
  },
  {
   "cell_type": "markdown",
   "id": "5040ae3c",
   "metadata": {
    "papermill": {
     "duration": 0.008645,
     "end_time": "2022-11-17T17:45:51.236796",
     "exception": false,
     "start_time": "2022-11-17T17:45:51.228151",
     "status": "completed"
    },
    "tags": []
   },
   "source": [
    "\n",
    "    \n",
    "# <p style=\"padding:10px;background-color:#232323;margin:0;color:white;font-family:newtimeroman;font-size:100%;text-align:center;border-radius: 15px 50px;overflow:hidden;font-weight:500\">Distance Measurement </p>\n",
    "\n"
   ]
  },
  {
   "cell_type": "markdown",
   "id": "b9d564e1",
   "metadata": {
    "papermill": {
     "duration": 0.008836,
     "end_time": "2022-11-17T17:45:51.254571",
     "exception": false,
     "start_time": "2022-11-17T17:45:51.245735",
     "status": "completed"
    },
    "tags": []
   },
   "source": [
    "\n",
    "**Distance measure determines the similarity between two elements and influences the shape of clusters.\n",
    "K-Means clustering supports various kinds of distance measures, such as:**\n",
    "\n",
    "\n",
    "1- Euclidean distance measure\n",
    "    \n",
    "2- Manhattan distance measure \n",
    "    \n",
    "3- A squared euclidean distance measure\n",
    "    \n",
    "4- Cosine distance measure "
   ]
  },
  {
   "cell_type": "markdown",
   "id": "aeec72c5",
   "metadata": {
    "papermill": {
     "duration": 0.008607,
     "end_time": "2022-11-17T17:45:51.272363",
     "exception": false,
     "start_time": "2022-11-17T17:45:51.263756",
     "status": "completed"
    },
    "tags": []
   },
   "source": [
    "\n",
    "    \n",
    "# <p style=\"padding:10px;background-color:#232323;margin:0;color:white;font-family:newtimeroman;font-size:100%;text-align:center;border-radius: 15px 50px;overflow:hidden;font-weight:500\">Euclidean Distance Measure</p>\n",
    "\n"
   ]
  },
  {
   "cell_type": "markdown",
   "id": "46824cb0",
   "metadata": {
    "papermill": {
     "duration": 0.00869,
     "end_time": "2022-11-17T17:45:51.289866",
     "exception": false,
     "start_time": "2022-11-17T17:45:51.281176",
     "status": "completed"
    },
    "tags": []
   },
   "source": [
    "**The most common case is determining the distance between two points. If we have a point P and point Q, the euclidean distance is an ordinary straight line. It is the distance between the two points in Euclidean space.**\n",
    "\n",
    "The formula for distance between two points is shown below:\n",
    "\n"
   ]
  },
  {
   "cell_type": "markdown",
   "id": "cc779ab8",
   "metadata": {
    "papermill": {
     "duration": 0.008482,
     "end_time": "2022-11-17T17:45:51.307183",
     "exception": false,
     "start_time": "2022-11-17T17:45:51.298701",
     "status": "completed"
    },
    "tags": []
   },
   "source": [
    "# <img src=\"https://www.simplilearn.com/ice9/free_resources_article_thumb/Euclidean.JPG\" width=\"25%\"/>\n"
   ]
  },
  {
   "cell_type": "markdown",
   "id": "de6cc503",
   "metadata": {
    "papermill": {
     "duration": 0.008577,
     "end_time": "2022-11-17T17:45:51.324650",
     "exception": false,
     "start_time": "2022-11-17T17:45:51.316073",
     "status": "completed"
    },
    "tags": []
   },
   "source": [
    "\n",
    "    \n",
    "# <p style=\"padding:10px;background-color:#232323;margin:0;color:white;font-family:newtimeroman;font-size:100%;text-align:center;border-radius: 15px 50px;overflow:hidden;font-weight:500\">Manhattan Distance Measure</p>\n",
    "\n"
   ]
  },
  {
   "cell_type": "markdown",
   "id": "7b2a2c51",
   "metadata": {
    "papermill": {
     "duration": 0.008513,
     "end_time": "2022-11-17T17:45:51.342147",
     "exception": false,
     "start_time": "2022-11-17T17:45:51.333634",
     "status": "completed"
    },
    "tags": []
   },
   "source": [
    "**The Manhattan distance is the simple sum of the horizontal and vertical components or the distance between two points measured along axes at right angles.**\n",
    "\n",
    "Note that we are taking the absolute value so that the negative values don't come into play. \n",
    "\n",
    "The formula is shown below:\n",
    "\n"
   ]
  },
  {
   "cell_type": "markdown",
   "id": "95cf1be1",
   "metadata": {
    "papermill": {
     "duration": 0.008583,
     "end_time": "2022-11-17T17:45:51.359829",
     "exception": false,
     "start_time": "2022-11-17T17:45:51.351246",
     "status": "completed"
    },
    "tags": []
   },
   "source": [
    "# <img src=\"https://www.simplilearn.com/ice9/free_resources_article_thumb/manhattandistance.JPG\" width=\"25%\"/>\n"
   ]
  },
  {
   "cell_type": "markdown",
   "id": "d61ec29c",
   "metadata": {
    "papermill": {
     "duration": 0.008693,
     "end_time": "2022-11-17T17:45:51.377661",
     "exception": false,
     "start_time": "2022-11-17T17:45:51.368968",
     "status": "completed"
    },
    "tags": []
   },
   "source": [
    "\n",
    "# <p style=\"padding:10px;background-color:#232323;margin:0;color:white;font-family:newtimeroman;font-size:100%;text-align:center;border-radius: 15px 50px;overflow:hidden;font-weight:500\">Squared Euclidean Measure</p>\n",
    "\n"
   ]
  },
  {
   "cell_type": "markdown",
   "id": "5f687d2f",
   "metadata": {
    "papermill": {
     "duration": 0.008636,
     "end_time": "2022-11-17T17:45:51.395266",
     "exception": false,
     "start_time": "2022-11-17T17:45:51.386630",
     "status": "completed"
    },
    "tags": []
   },
   "source": [
    "\n",
    "This is identical to the Euclidean distance measurement but does not take the square root at the end. The formula is shown below:\n",
    "\n"
   ]
  },
  {
   "cell_type": "markdown",
   "id": "adc74c80",
   "metadata": {
    "papermill": {
     "duration": 0.008507,
     "end_time": "2022-11-17T17:45:51.412772",
     "exception": false,
     "start_time": "2022-11-17T17:45:51.404265",
     "status": "completed"
    },
    "tags": []
   },
   "source": [
    "# <img src=\"https://www.simplilearn.com/ice9/free_resources_article_thumb/squared-eu.JPG\" width=\"20%\"/>\n"
   ]
  },
  {
   "cell_type": "markdown",
   "id": "b293d8b0",
   "metadata": {
    "papermill": {
     "duration": 0.008337,
     "end_time": "2022-11-17T17:45:51.430011",
     "exception": false,
     "start_time": "2022-11-17T17:45:51.421674",
     "status": "completed"
    },
    "tags": []
   },
   "source": [
    "\n",
    "# <p style=\"padding:10px;background-color:#232323;margin:0;color:white;font-family:newtimeroman;font-size:100%;text-align:center;border-radius: 15px 50px;overflow:hidden;font-weight:500\">Cosine Distance Measure</p>\n",
    "\n"
   ]
  },
  {
   "cell_type": "markdown",
   "id": "68250b61",
   "metadata": {
    "papermill": {
     "duration": 0.008583,
     "end_time": "2022-11-17T17:45:51.447391",
     "exception": false,
     "start_time": "2022-11-17T17:45:51.438808",
     "status": "completed"
    },
    "tags": []
   },
   "source": [
    "\n",
    "In this case, we take the angle between the two vectors formed by joining the origin point. The formula is shown below:\n",
    "\n"
   ]
  },
  {
   "cell_type": "markdown",
   "id": "7780b387",
   "metadata": {
    "papermill": {
     "duration": 0.010299,
     "end_time": "2022-11-17T17:45:51.466491",
     "exception": false,
     "start_time": "2022-11-17T17:45:51.456192",
     "status": "completed"
    },
    "tags": []
   },
   "source": [
    "# <img src=\"https://www.simplilearn.com/ice9/free_resources_article_thumb/cosinedistance.JPG\" width=\"35%\"/>\n"
   ]
  },
  {
   "cell_type": "markdown",
   "id": "2b516884",
   "metadata": {
    "papermill": {
     "duration": 0.009501,
     "end_time": "2022-11-17T17:45:51.485503",
     "exception": false,
     "start_time": "2022-11-17T17:45:51.476002",
     "status": "completed"
    },
    "tags": []
   },
   "source": [
    "\n",
    "# <p style=\"padding:10px;background-color:#232323;margin:0;color:white;font-family:newtimeroman;font-size:100%;text-align:center;border-radius: 15px 50px;overflow:hidden;font-weight:500\">How to choose \"K number of clusters\" in K-means Clustering?</p>\n",
    "\n"
   ]
  },
  {
   "cell_type": "markdown",
   "id": "b57f96be",
   "metadata": {
    "papermill": {
     "duration": 0.008667,
     "end_time": "2022-11-17T17:45:51.504138",
     "exception": false,
     "start_time": "2022-11-17T17:45:51.495471",
     "status": "completed"
    },
    "tags": []
   },
   "source": [
    "The performance of the K-means clustering algorithm depends upon highly efficient clusters that it forms. But choosing the optimal number of clusters is a big task. There are some different ways to find the optimal number of clusters, but here we are discussing the most appropriate method to find the number of clusters or value of K. The method is given below:\n",
    "\n"
   ]
  },
  {
   "cell_type": "markdown",
   "id": "bf2f7936",
   "metadata": {
    "papermill": {
     "duration": 0.008617,
     "end_time": "2022-11-17T17:45:51.521598",
     "exception": false,
     "start_time": "2022-11-17T17:45:51.512981",
     "status": "completed"
    },
    "tags": []
   },
   "source": [
    "\n",
    "\n",
    "# <p style=\"padding:10px;background-color:#232323;margin:0;color:white;font-family:newtimeroman;font-size:100%;text-align:center;border-radius: 15px 50px;overflow:hidden;font-weight:500\">Elbow Method</p>\n",
    "\n"
   ]
  },
  {
   "cell_type": "markdown",
   "id": "7e2b8058",
   "metadata": {
    "papermill": {
     "duration": 0.008794,
     "end_time": "2022-11-17T17:45:51.539544",
     "exception": false,
     "start_time": "2022-11-17T17:45:51.530750",
     "status": "completed"
    },
    "tags": []
   },
   "source": [
    "\n",
    "In the Elbow method, we are actually varying the number of clusters ( K ) from 1 – 10. For each value of K, we are calculating WCSS ( Within-Cluster Sum of Square ). WCSS is the sum of squared distance between each point and the centroid in a cluster. When we plot the WCSS with the K value, the plot looks like an Elbow. As the number of clusters increases, the WCSS value will start to decrease. WCSS value is largest when K = 1. When we analyze the graph we can see that the graph will rapidly change at a point and thus creating an elbow shape. From this point, the graph starts to move almost parallel to the X-axis. The K value corresponding to this point is the optimal K value or an optimal number of clusters."
   ]
  },
  {
   "cell_type": "markdown",
   "id": "53ff1e34",
   "metadata": {
    "papermill": {
     "duration": 0.008893,
     "end_time": "2022-11-17T17:45:51.557602",
     "exception": false,
     "start_time": "2022-11-17T17:45:51.548709",
     "status": "completed"
    },
    "tags": []
   },
   "source": [
    "# <img src=\"https://editor.analyticsvidhya.com/uploads/43191elbow_img%20(1).png\" width=\"35%\"/>\n"
   ]
  },
  {
   "cell_type": "markdown",
   "id": "0c4ea26a",
   "metadata": {
    "papermill": {
     "duration": 0.008865,
     "end_time": "2022-11-17T17:45:51.575575",
     "exception": false,
     "start_time": "2022-11-17T17:45:51.566710",
     "status": "completed"
    },
    "tags": []
   },
   "source": [
    "\n",
    "# <p style=\"padding:10px;background-color:#232323;margin:0;color:white;font-family:newtimeroman;font-size:100%;text-align:center;border-radius: 15px 50px;overflow:hidden;font-weight:500\">Silhouette Method</p>\n",
    "\n"
   ]
  },
  {
   "cell_type": "markdown",
   "id": "0df8582a",
   "metadata": {
    "papermill": {
     "duration": 0.008939,
     "end_time": "2022-11-17T17:45:51.593840",
     "exception": false,
     "start_time": "2022-11-17T17:45:51.584901",
     "status": "completed"
    },
    "tags": []
   },
   "source": [
    "\n",
    "Silhouette score is used to evaluate the quality of clusters created using clustering algorithms such as K-Means in terms of how well samples are clustered with other samples that are similar to each other. \n",
    "\n",
    "The Silhouette score is calculated for each sample of different clusters. To calculate the Silhouette score for each observation/data point, the following distances need to be found out for each observations belonging to all the clusters:\n",
    "\n",
    "Mean distance between the observation and all other data points in the same cluster. This distance can also be called a mean intra-cluster distance. The mean distance is denoted by a.\n",
    "    \n",
    "Mean distance between the observation and all other data points of the next nearest cluster. This distance can also be called a mean nearest-cluster distance. The mean distance is denoted by b.\n",
    "    \n",
    "Silhouette score, S, for each sample is calculated using the following formula:"
   ]
  },
  {
   "cell_type": "markdown",
   "id": "9c74c6d3",
   "metadata": {
    "papermill": {
     "duration": 0.008866,
     "end_time": "2022-11-17T17:45:51.612166",
     "exception": false,
     "start_time": "2022-11-17T17:45:51.603300",
     "status": "completed"
    },
    "tags": []
   },
   "source": [
    "# <img src=\"https://uploads-ssl.webflow.com/5f5148a709e16c7d368ea080/5f7dea907b8e8c7769e769c8_5f7c9650bc3b1ed0ad2247eb_silhouette_formula.jpg\" width=\"60%\"/>\n"
   ]
  },
  {
   "cell_type": "markdown",
   "id": "6ce3a19d",
   "metadata": {
    "papermill": {
     "duration": 0.008909,
     "end_time": "2022-11-17T17:45:51.630395",
     "exception": false,
     "start_time": "2022-11-17T17:45:51.621486",
     "status": "completed"
    },
    "tags": []
   },
   "source": [
    "\n",
    " The value of the Silhouette score varies from -1 to 1. If the score is 1, the cluster is dense and well-separated than other clusters. A value near 0 represents overlapping clusters with samples very close to the decision boundary of the neighboring clusters. A negative score [-1, 0] indicates that the samples might have got assigned to the wrong clusters. "
   ]
  },
  {
   "cell_type": "markdown",
   "id": "5fb4688f",
   "metadata": {
    "papermill": {
     "duration": 0.008846,
     "end_time": "2022-11-17T17:45:51.648478",
     "exception": false,
     "start_time": "2022-11-17T17:45:51.639632",
     "status": "completed"
    },
    "tags": []
   },
   "source": [
    "\n",
    "    \n",
    "# <p style=\"padding:10px;background-color:#232323;margin:0;color:white;font-family:newtimeroman;font-size:100%;text-align:center;border-radius: 15px 50px;overflow:hidden;font-weight:500\">Kmeans In Nutshell</p>\n",
    "\n"
   ]
  },
  {
   "cell_type": "markdown",
   "id": "18fbd337",
   "metadata": {
    "papermill": {
     "duration": 0.008907,
     "end_time": "2022-11-17T17:45:51.666792",
     "exception": false,
     "start_time": "2022-11-17T17:45:51.657885",
     "status": "completed"
    },
    "tags": []
   },
   "source": [
    "# <img src = \"http://shabal.in/visuals/kmeans/left.gif\" width = \"40%\"/>"
   ]
  },
  {
   "cell_type": "markdown",
   "id": "0659bb7d",
   "metadata": {},
   "source": [
    "\n",
    "    \n",
    "# <p style=\"padding:10px;background-color:#232323;margin:0;color:white;font-family:newtimeroman;font-size:100%;text-align:center;border-radius: 15px 50px;overflow:hidden;font-weight:500\">Importing Libraries</p>\n",
    "\n"
   ]
  },
  {
   "cell_type": "code",
   "execution_count": 1,
   "id": "4f1d0748",
   "metadata": {
    "execution": {
     "iopub.execute_input": "2022-11-17T17:45:51.688428Z",
     "iopub.status.busy": "2022-11-17T17:45:51.687423Z",
     "iopub.status.idle": "2022-11-17T17:45:52.854852Z",
     "shell.execute_reply": "2022-11-17T17:45:52.854045Z"
    },
    "papermill": {
     "duration": 1.181542,
     "end_time": "2022-11-17T17:45:52.857576",
     "exception": false,
     "start_time": "2022-11-17T17:45:51.676034",
     "status": "completed"
    },
    "tags": []
   },
   "outputs": [],
   "source": [
    "%matplotlib inline\n",
    "import numpy as np\n",
    "import pandas as pd\n",
    "import matplotlib.pyplot as plt\n",
    "import seaborn as sns\n",
    "import sklearn"
   ]
  },
  {
   "cell_type": "markdown",
   "id": "8442b51d",
   "metadata": {},
   "source": [
    "\n",
    "    \n",
    "# <p style=\"padding:10px;background-color:#232323;margin:0;color:white;font-family:newtimeroman;font-size:100%;text-align:center;border-radius: 15px 50px;overflow:hidden;font-weight:500\">Importing Dataset</p>\n",
    "\n"
   ]
  },
  {
   "cell_type": "code",
   "execution_count": 4,
   "id": "0e9e03a4",
   "metadata": {
    "execution": {
     "iopub.execute_input": "2022-11-17T17:45:52.951879Z",
     "iopub.status.busy": "2022-11-17T17:45:52.951415Z",
     "iopub.status.idle": "2022-11-17T17:45:52.970363Z",
     "shell.execute_reply": "2022-11-17T17:45:52.969647Z"
    },
    "papermill": {
     "duration": 0.032132,
     "end_time": "2022-11-17T17:45:52.972991",
     "exception": false,
     "start_time": "2022-11-17T17:45:52.940859",
     "status": "completed"
    },
    "tags": []
   },
   "outputs": [
    {
     "data": {
      "text/html": [
       "<div>\n",
       "<style scoped>\n",
       "    .dataframe tbody tr th:only-of-type {\n",
       "        vertical-align: middle;\n",
       "    }\n",
       "\n",
       "    .dataframe tbody tr th {\n",
       "        vertical-align: top;\n",
       "    }\n",
       "\n",
       "    .dataframe thead th {\n",
       "        text-align: right;\n",
       "    }\n",
       "</style>\n",
       "<table border=\"1\" class=\"dataframe\">\n",
       "  <thead>\n",
       "    <tr style=\"text-align: right;\">\n",
       "      <th></th>\n",
       "      <th>CustomerID</th>\n",
       "      <th>Genre</th>\n",
       "      <th>Age</th>\n",
       "      <th>Annual Income (k$)</th>\n",
       "      <th>Spending Score (1-100)</th>\n",
       "    </tr>\n",
       "  </thead>\n",
       "  <tbody>\n",
       "    <tr>\n",
       "      <th>0</th>\n",
       "      <td>1</td>\n",
       "      <td>Male</td>\n",
       "      <td>19</td>\n",
       "      <td>15</td>\n",
       "      <td>39</td>\n",
       "    </tr>\n",
       "    <tr>\n",
       "      <th>1</th>\n",
       "      <td>2</td>\n",
       "      <td>Male</td>\n",
       "      <td>21</td>\n",
       "      <td>15</td>\n",
       "      <td>81</td>\n",
       "    </tr>\n",
       "    <tr>\n",
       "      <th>2</th>\n",
       "      <td>3</td>\n",
       "      <td>Female</td>\n",
       "      <td>20</td>\n",
       "      <td>16</td>\n",
       "      <td>6</td>\n",
       "    </tr>\n",
       "    <tr>\n",
       "      <th>3</th>\n",
       "      <td>4</td>\n",
       "      <td>Female</td>\n",
       "      <td>23</td>\n",
       "      <td>16</td>\n",
       "      <td>77</td>\n",
       "    </tr>\n",
       "    <tr>\n",
       "      <th>4</th>\n",
       "      <td>5</td>\n",
       "      <td>Female</td>\n",
       "      <td>31</td>\n",
       "      <td>17</td>\n",
       "      <td>40</td>\n",
       "    </tr>\n",
       "  </tbody>\n",
       "</table>\n",
       "</div>"
      ],
      "text/plain": [
       "   CustomerID   Genre  Age  Annual Income (k$)  Spending Score (1-100)\n",
       "0           1    Male   19                  15                      39\n",
       "1           2    Male   21                  15                      81\n",
       "2           3  Female   20                  16                       6\n",
       "3           4  Female   23                  16                      77\n",
       "4           5  Female   31                  17                      40"
      ]
     },
     "execution_count": 4,
     "metadata": {},
     "output_type": "execute_result"
    }
   ],
   "source": [
    "df.head()"
   ]
  },
  {
   "cell_type": "code",
   "execution_count": 2,
   "id": "6a9fba39",
   "metadata": {
    "execution": {
     "iopub.execute_input": "2022-11-17T17:45:52.877103Z",
     "iopub.status.busy": "2022-11-17T17:45:52.876503Z",
     "iopub.status.idle": "2022-11-17T17:45:52.897940Z",
     "shell.execute_reply": "2022-11-17T17:45:52.897213Z"
    },
    "papermill": {
     "duration": 0.033692,
     "end_time": "2022-11-17T17:45:52.900276",
     "exception": false,
     "start_time": "2022-11-17T17:45:52.866584",
     "status": "completed"
    },
    "tags": []
   },
   "outputs": [
    {
     "ename": "FileNotFoundError",
     "evalue": "[Errno 2] No such file or directory: '../input/mall-customers/Mall_Customers.csv'",
     "output_type": "error",
     "traceback": [
      "\u001b[1;31m---------------------------------------------------------------------------\u001b[0m",
      "\u001b[1;31mFileNotFoundError\u001b[0m                         Traceback (most recent call last)",
      "\u001b[1;32m<ipython-input-2-3c689e0eb378>\u001b[0m in \u001b[0;36m<module>\u001b[1;34m\u001b[0m\n\u001b[1;32m----> 1\u001b[1;33m \u001b[0mdf\u001b[0m \u001b[1;33m=\u001b[0m \u001b[0mpd\u001b[0m\u001b[1;33m.\u001b[0m\u001b[0mread_csv\u001b[0m\u001b[1;33m(\u001b[0m\u001b[1;34mr\"../input/mall-customers/Mall_Customers.csv\"\u001b[0m\u001b[1;33m)\u001b[0m\u001b[1;33m\u001b[0m\u001b[1;33m\u001b[0m\u001b[0m\n\u001b[0m",
      "\u001b[1;32mC:\\ProgramData\\Anaconda3\\lib\\site-packages\\pandas\\io\\parsers.py\u001b[0m in \u001b[0;36mread_csv\u001b[1;34m(filepath_or_buffer, sep, delimiter, header, names, index_col, usecols, squeeze, prefix, mangle_dupe_cols, dtype, engine, converters, true_values, false_values, skipinitialspace, skiprows, skipfooter, nrows, na_values, keep_default_na, na_filter, verbose, skip_blank_lines, parse_dates, infer_datetime_format, keep_date_col, date_parser, dayfirst, cache_dates, iterator, chunksize, compression, thousands, decimal, lineterminator, quotechar, quoting, doublequote, escapechar, comment, encoding, dialect, error_bad_lines, warn_bad_lines, delim_whitespace, low_memory, memory_map, float_precision, storage_options)\u001b[0m\n\u001b[0;32m    608\u001b[0m     \u001b[0mkwds\u001b[0m\u001b[1;33m.\u001b[0m\u001b[0mupdate\u001b[0m\u001b[1;33m(\u001b[0m\u001b[0mkwds_defaults\u001b[0m\u001b[1;33m)\u001b[0m\u001b[1;33m\u001b[0m\u001b[1;33m\u001b[0m\u001b[0m\n\u001b[0;32m    609\u001b[0m \u001b[1;33m\u001b[0m\u001b[0m\n\u001b[1;32m--> 610\u001b[1;33m     \u001b[1;32mreturn\u001b[0m \u001b[0m_read\u001b[0m\u001b[1;33m(\u001b[0m\u001b[0mfilepath_or_buffer\u001b[0m\u001b[1;33m,\u001b[0m \u001b[0mkwds\u001b[0m\u001b[1;33m)\u001b[0m\u001b[1;33m\u001b[0m\u001b[1;33m\u001b[0m\u001b[0m\n\u001b[0m\u001b[0;32m    611\u001b[0m \u001b[1;33m\u001b[0m\u001b[0m\n\u001b[0;32m    612\u001b[0m \u001b[1;33m\u001b[0m\u001b[0m\n",
      "\u001b[1;32mC:\\ProgramData\\Anaconda3\\lib\\site-packages\\pandas\\io\\parsers.py\u001b[0m in \u001b[0;36m_read\u001b[1;34m(filepath_or_buffer, kwds)\u001b[0m\n\u001b[0;32m    460\u001b[0m \u001b[1;33m\u001b[0m\u001b[0m\n\u001b[0;32m    461\u001b[0m     \u001b[1;31m# Create the parser.\u001b[0m\u001b[1;33m\u001b[0m\u001b[1;33m\u001b[0m\u001b[1;33m\u001b[0m\u001b[0m\n\u001b[1;32m--> 462\u001b[1;33m     \u001b[0mparser\u001b[0m \u001b[1;33m=\u001b[0m \u001b[0mTextFileReader\u001b[0m\u001b[1;33m(\u001b[0m\u001b[0mfilepath_or_buffer\u001b[0m\u001b[1;33m,\u001b[0m \u001b[1;33m**\u001b[0m\u001b[0mkwds\u001b[0m\u001b[1;33m)\u001b[0m\u001b[1;33m\u001b[0m\u001b[1;33m\u001b[0m\u001b[0m\n\u001b[0m\u001b[0;32m    463\u001b[0m \u001b[1;33m\u001b[0m\u001b[0m\n\u001b[0;32m    464\u001b[0m     \u001b[1;32mif\u001b[0m \u001b[0mchunksize\u001b[0m \u001b[1;32mor\u001b[0m \u001b[0miterator\u001b[0m\u001b[1;33m:\u001b[0m\u001b[1;33m\u001b[0m\u001b[1;33m\u001b[0m\u001b[0m\n",
      "\u001b[1;32mC:\\ProgramData\\Anaconda3\\lib\\site-packages\\pandas\\io\\parsers.py\u001b[0m in \u001b[0;36m__init__\u001b[1;34m(self, f, engine, **kwds)\u001b[0m\n\u001b[0;32m    817\u001b[0m             \u001b[0mself\u001b[0m\u001b[1;33m.\u001b[0m\u001b[0moptions\u001b[0m\u001b[1;33m[\u001b[0m\u001b[1;34m\"has_index_names\"\u001b[0m\u001b[1;33m]\u001b[0m \u001b[1;33m=\u001b[0m \u001b[0mkwds\u001b[0m\u001b[1;33m[\u001b[0m\u001b[1;34m\"has_index_names\"\u001b[0m\u001b[1;33m]\u001b[0m\u001b[1;33m\u001b[0m\u001b[1;33m\u001b[0m\u001b[0m\n\u001b[0;32m    818\u001b[0m \u001b[1;33m\u001b[0m\u001b[0m\n\u001b[1;32m--> 819\u001b[1;33m         \u001b[0mself\u001b[0m\u001b[1;33m.\u001b[0m\u001b[0m_engine\u001b[0m \u001b[1;33m=\u001b[0m \u001b[0mself\u001b[0m\u001b[1;33m.\u001b[0m\u001b[0m_make_engine\u001b[0m\u001b[1;33m(\u001b[0m\u001b[0mself\u001b[0m\u001b[1;33m.\u001b[0m\u001b[0mengine\u001b[0m\u001b[1;33m)\u001b[0m\u001b[1;33m\u001b[0m\u001b[1;33m\u001b[0m\u001b[0m\n\u001b[0m\u001b[0;32m    820\u001b[0m \u001b[1;33m\u001b[0m\u001b[0m\n\u001b[0;32m    821\u001b[0m     \u001b[1;32mdef\u001b[0m \u001b[0mclose\u001b[0m\u001b[1;33m(\u001b[0m\u001b[0mself\u001b[0m\u001b[1;33m)\u001b[0m\u001b[1;33m:\u001b[0m\u001b[1;33m\u001b[0m\u001b[1;33m\u001b[0m\u001b[0m\n",
      "\u001b[1;32mC:\\ProgramData\\Anaconda3\\lib\\site-packages\\pandas\\io\\parsers.py\u001b[0m in \u001b[0;36m_make_engine\u001b[1;34m(self, engine)\u001b[0m\n\u001b[0;32m   1048\u001b[0m             )\n\u001b[0;32m   1049\u001b[0m         \u001b[1;31m# error: Too many arguments for \"ParserBase\"\u001b[0m\u001b[1;33m\u001b[0m\u001b[1;33m\u001b[0m\u001b[1;33m\u001b[0m\u001b[0m\n\u001b[1;32m-> 1050\u001b[1;33m         \u001b[1;32mreturn\u001b[0m \u001b[0mmapping\u001b[0m\u001b[1;33m[\u001b[0m\u001b[0mengine\u001b[0m\u001b[1;33m]\u001b[0m\u001b[1;33m(\u001b[0m\u001b[0mself\u001b[0m\u001b[1;33m.\u001b[0m\u001b[0mf\u001b[0m\u001b[1;33m,\u001b[0m \u001b[1;33m**\u001b[0m\u001b[0mself\u001b[0m\u001b[1;33m.\u001b[0m\u001b[0moptions\u001b[0m\u001b[1;33m)\u001b[0m  \u001b[1;31m# type: ignore[call-arg]\u001b[0m\u001b[1;33m\u001b[0m\u001b[1;33m\u001b[0m\u001b[0m\n\u001b[0m\u001b[0;32m   1051\u001b[0m \u001b[1;33m\u001b[0m\u001b[0m\n\u001b[0;32m   1052\u001b[0m     \u001b[1;32mdef\u001b[0m \u001b[0m_failover_to_python\u001b[0m\u001b[1;33m(\u001b[0m\u001b[0mself\u001b[0m\u001b[1;33m)\u001b[0m\u001b[1;33m:\u001b[0m\u001b[1;33m\u001b[0m\u001b[1;33m\u001b[0m\u001b[0m\n",
      "\u001b[1;32mC:\\ProgramData\\Anaconda3\\lib\\site-packages\\pandas\\io\\parsers.py\u001b[0m in \u001b[0;36m__init__\u001b[1;34m(self, src, **kwds)\u001b[0m\n\u001b[0;32m   1865\u001b[0m \u001b[1;33m\u001b[0m\u001b[0m\n\u001b[0;32m   1866\u001b[0m         \u001b[1;31m# open handles\u001b[0m\u001b[1;33m\u001b[0m\u001b[1;33m\u001b[0m\u001b[1;33m\u001b[0m\u001b[0m\n\u001b[1;32m-> 1867\u001b[1;33m         \u001b[0mself\u001b[0m\u001b[1;33m.\u001b[0m\u001b[0m_open_handles\u001b[0m\u001b[1;33m(\u001b[0m\u001b[0msrc\u001b[0m\u001b[1;33m,\u001b[0m \u001b[0mkwds\u001b[0m\u001b[1;33m)\u001b[0m\u001b[1;33m\u001b[0m\u001b[1;33m\u001b[0m\u001b[0m\n\u001b[0m\u001b[0;32m   1868\u001b[0m         \u001b[1;32massert\u001b[0m \u001b[0mself\u001b[0m\u001b[1;33m.\u001b[0m\u001b[0mhandles\u001b[0m \u001b[1;32mis\u001b[0m \u001b[1;32mnot\u001b[0m \u001b[1;32mNone\u001b[0m\u001b[1;33m\u001b[0m\u001b[1;33m\u001b[0m\u001b[0m\n\u001b[0;32m   1869\u001b[0m         \u001b[1;32mfor\u001b[0m \u001b[0mkey\u001b[0m \u001b[1;32min\u001b[0m \u001b[1;33m(\u001b[0m\u001b[1;34m\"storage_options\"\u001b[0m\u001b[1;33m,\u001b[0m \u001b[1;34m\"encoding\"\u001b[0m\u001b[1;33m,\u001b[0m \u001b[1;34m\"memory_map\"\u001b[0m\u001b[1;33m,\u001b[0m \u001b[1;34m\"compression\"\u001b[0m\u001b[1;33m)\u001b[0m\u001b[1;33m:\u001b[0m\u001b[1;33m\u001b[0m\u001b[1;33m\u001b[0m\u001b[0m\n",
      "\u001b[1;32mC:\\ProgramData\\Anaconda3\\lib\\site-packages\\pandas\\io\\parsers.py\u001b[0m in \u001b[0;36m_open_handles\u001b[1;34m(self, src, kwds)\u001b[0m\n\u001b[0;32m   1360\u001b[0m         \u001b[0mLet\u001b[0m \u001b[0mthe\u001b[0m \u001b[0mreaders\u001b[0m \u001b[0mopen\u001b[0m \u001b[0mIOHanldes\u001b[0m \u001b[0mafter\u001b[0m \u001b[0mthey\u001b[0m \u001b[0mare\u001b[0m \u001b[0mdone\u001b[0m \u001b[1;32mwith\u001b[0m \u001b[0mtheir\u001b[0m \u001b[0mpotential\u001b[0m \u001b[0mraises\u001b[0m\u001b[1;33m.\u001b[0m\u001b[1;33m\u001b[0m\u001b[1;33m\u001b[0m\u001b[0m\n\u001b[0;32m   1361\u001b[0m         \"\"\"\n\u001b[1;32m-> 1362\u001b[1;33m         self.handles = get_handle(\n\u001b[0m\u001b[0;32m   1363\u001b[0m             \u001b[0msrc\u001b[0m\u001b[1;33m,\u001b[0m\u001b[1;33m\u001b[0m\u001b[1;33m\u001b[0m\u001b[0m\n\u001b[0;32m   1364\u001b[0m             \u001b[1;34m\"r\"\u001b[0m\u001b[1;33m,\u001b[0m\u001b[1;33m\u001b[0m\u001b[1;33m\u001b[0m\u001b[0m\n",
      "\u001b[1;32mC:\\ProgramData\\Anaconda3\\lib\\site-packages\\pandas\\io\\common.py\u001b[0m in \u001b[0;36mget_handle\u001b[1;34m(path_or_buf, mode, encoding, compression, memory_map, is_text, errors, storage_options)\u001b[0m\n\u001b[0;32m    640\u001b[0m                 \u001b[0merrors\u001b[0m \u001b[1;33m=\u001b[0m \u001b[1;34m\"replace\"\u001b[0m\u001b[1;33m\u001b[0m\u001b[1;33m\u001b[0m\u001b[0m\n\u001b[0;32m    641\u001b[0m             \u001b[1;31m# Encoding\u001b[0m\u001b[1;33m\u001b[0m\u001b[1;33m\u001b[0m\u001b[1;33m\u001b[0m\u001b[0m\n\u001b[1;32m--> 642\u001b[1;33m             handle = open(\n\u001b[0m\u001b[0;32m    643\u001b[0m                 \u001b[0mhandle\u001b[0m\u001b[1;33m,\u001b[0m\u001b[1;33m\u001b[0m\u001b[1;33m\u001b[0m\u001b[0m\n\u001b[0;32m    644\u001b[0m                 \u001b[0mioargs\u001b[0m\u001b[1;33m.\u001b[0m\u001b[0mmode\u001b[0m\u001b[1;33m,\u001b[0m\u001b[1;33m\u001b[0m\u001b[1;33m\u001b[0m\u001b[0m\n",
      "\u001b[1;31mFileNotFoundError\u001b[0m: [Errno 2] No such file or directory: '../input/mall-customers/Mall_Customers.csv'"
     ]
    }
   ],
   "source": [
    "df = pd.read_csv(r\"../input/mall-customers/Mall_Customers.csv\")"
   ]
  },
  {
   "cell_type": "code",
   "execution_count": null,
   "id": "219910df",
   "metadata": {
    "execution": {
     "iopub.execute_input": "2022-11-17T17:45:52.921946Z",
     "iopub.status.busy": "2022-11-17T17:45:52.921535Z",
     "iopub.status.idle": "2022-11-17T17:45:52.929620Z",
     "shell.execute_reply": "2022-11-17T17:45:52.928026Z"
    },
    "papermill": {
     "duration": 0.021665,
     "end_time": "2022-11-17T17:45:52.931770",
     "exception": false,
     "start_time": "2022-11-17T17:45:52.910105",
     "status": "completed"
    },
    "tags": []
   },
   "outputs": [],
   "source": [
    "type(df)"
   ]
  },
  {
   "cell_type": "code",
   "execution_count": 5,
   "id": "e75f01ad",
   "metadata": {
    "execution": {
     "iopub.execute_input": "2022-11-17T17:45:52.994357Z",
     "iopub.status.busy": "2022-11-17T17:45:52.993664Z",
     "iopub.status.idle": "2022-11-17T17:45:53.018890Z",
     "shell.execute_reply": "2022-11-17T17:45:53.018071Z"
    },
    "papermill": {
     "duration": 0.038578,
     "end_time": "2022-11-17T17:45:53.021164",
     "exception": false,
     "start_time": "2022-11-17T17:45:52.982586",
     "status": "completed"
    },
    "scrolled": true,
    "tags": []
   },
   "outputs": [
    {
     "name": "stdout",
     "output_type": "stream",
     "text": [
      "<class 'pandas.core.frame.DataFrame'>\n",
      "\n",
      "RangeIndex: 200 entries, 0 to 199\n",
      "\n",
      "Data columns (total 5 columns):\n",
      "\n",
      " #   Column                  Non-Null Count  Dtype \n",
      "\n",
      "---  ------                  --------------  ----- \n",
      "\n",
      " 0   CustomerID              200 non-null    int64 \n",
      "\n",
      " 1   Genre                   200 non-null    object\n",
      "\n",
      " 2   Age                     200 non-null    int64 \n",
      "\n",
      " 3   Annual Income (k$)      200 non-null    int64 \n",
      "\n",
      " 4   Spending Score (1-100)  200 non-null    int64 \n",
      "\n",
      "dtypes: int64(4), object(1)\n",
      "\n",
      "memory usage: 7.9+ KB\n"
     ]
    }
   ],
   "source": [
    "df.info()"
   ]
  },
  {
   "cell_type": "markdown",
   "id": "b1ea63e3",
   "metadata": {},
   "source": [
    "\n",
    "    \n",
    "# <p style=\"padding:10px;background-color:#232323;margin:0;color:white;font-family:newtimeroman;font-size:100%;text-align:center;border-radius: 15px 50px;overflow:hidden;font-weight:500\">Preprocessing</p>\n",
    "\n"
   ]
  },
  {
   "cell_type": "code",
   "execution_count": 6,
   "id": "8614786f",
   "metadata": {
    "execution": {
     "iopub.execute_input": "2022-11-17T17:45:53.043778Z",
     "iopub.status.busy": "2022-11-17T17:45:53.042884Z",
     "iopub.status.idle": "2022-11-17T17:45:53.051579Z",
     "shell.execute_reply": "2022-11-17T17:45:53.050429Z"
    },
    "papermill": {
     "duration": 0.022741,
     "end_time": "2022-11-17T17:45:53.053836",
     "exception": false,
     "start_time": "2022-11-17T17:45:53.031095",
     "status": "completed"
    },
    "tags": []
   },
   "outputs": [],
   "source": [
    "df = pd.get_dummies(df)"
   ]
  },
  {
   "cell_type": "code",
   "execution_count": 7,
   "id": "c65accb7",
   "metadata": {
    "execution": {
     "iopub.execute_input": "2022-11-17T17:45:53.075083Z",
     "iopub.status.busy": "2022-11-17T17:45:53.074351Z",
     "iopub.status.idle": "2022-11-17T17:45:53.085703Z",
     "shell.execute_reply": "2022-11-17T17:45:53.084733Z"
    },
    "papermill": {
     "duration": 0.025111,
     "end_time": "2022-11-17T17:45:53.088624",
     "exception": false,
     "start_time": "2022-11-17T17:45:53.063513",
     "status": "completed"
    },
    "tags": []
   },
   "outputs": [
    {
     "data": {
      "text/html": [
       "<div>\n",
       "<style scoped>\n",
       "    .dataframe tbody tr th:only-of-type {\n",
       "        vertical-align: middle;\n",
       "    }\n",
       "\n",
       "    .dataframe tbody tr th {\n",
       "        vertical-align: top;\n",
       "    }\n",
       "\n",
       "    .dataframe thead th {\n",
       "        text-align: right;\n",
       "    }\n",
       "</style>\n",
       "<table border=\"1\" class=\"dataframe\">\n",
       "  <thead>\n",
       "    <tr style=\"text-align: right;\">\n",
       "      <th></th>\n",
       "      <th>CustomerID</th>\n",
       "      <th>Age</th>\n",
       "      <th>Annual Income (k$)</th>\n",
       "      <th>Spending Score (1-100)</th>\n",
       "      <th>Genre_Female</th>\n",
       "      <th>Genre_Male</th>\n",
       "    </tr>\n",
       "  </thead>\n",
       "  <tbody>\n",
       "    <tr>\n",
       "      <th>0</th>\n",
       "      <td>1</td>\n",
       "      <td>19</td>\n",
       "      <td>15</td>\n",
       "      <td>39</td>\n",
       "      <td>0</td>\n",
       "      <td>1</td>\n",
       "    </tr>\n",
       "    <tr>\n",
       "      <th>1</th>\n",
       "      <td>2</td>\n",
       "      <td>21</td>\n",
       "      <td>15</td>\n",
       "      <td>81</td>\n",
       "      <td>0</td>\n",
       "      <td>1</td>\n",
       "    </tr>\n",
       "    <tr>\n",
       "      <th>2</th>\n",
       "      <td>3</td>\n",
       "      <td>20</td>\n",
       "      <td>16</td>\n",
       "      <td>6</td>\n",
       "      <td>1</td>\n",
       "      <td>0</td>\n",
       "    </tr>\n",
       "    <tr>\n",
       "      <th>3</th>\n",
       "      <td>4</td>\n",
       "      <td>23</td>\n",
       "      <td>16</td>\n",
       "      <td>77</td>\n",
       "      <td>1</td>\n",
       "      <td>0</td>\n",
       "    </tr>\n",
       "    <tr>\n",
       "      <th>4</th>\n",
       "      <td>5</td>\n",
       "      <td>31</td>\n",
       "      <td>17</td>\n",
       "      <td>40</td>\n",
       "      <td>1</td>\n",
       "      <td>0</td>\n",
       "    </tr>\n",
       "  </tbody>\n",
       "</table>\n",
       "</div>"
      ],
      "text/plain": [
       "   CustomerID  Age  Annual Income (k$)  Spending Score (1-100)  Genre_Female  \\\n",
       "0           1   19                  15                      39             0   \n",
       "1           2   21                  15                      81             0   \n",
       "2           3   20                  16                       6             1   \n",
       "3           4   23                  16                      77             1   \n",
       "4           5   31                  17                      40             1   \n",
       "\n",
       "   Genre_Male  \n",
       "0           1  \n",
       "1           1  \n",
       "2           0  \n",
       "3           0  \n",
       "4           0  "
      ]
     },
     "execution_count": 7,
     "metadata": {},
     "output_type": "execute_result"
    }
   ],
   "source": [
    "df.head()"
   ]
  },
  {
   "cell_type": "code",
   "execution_count": 8,
   "id": "90fa1021",
   "metadata": {
    "execution": {
     "iopub.execute_input": "2022-11-17T17:45:53.111149Z",
     "iopub.status.busy": "2022-11-17T17:45:53.110474Z",
     "iopub.status.idle": "2022-11-17T17:45:53.117502Z",
     "shell.execute_reply": "2022-11-17T17:45:53.116024Z"
    },
    "papermill": {
     "duration": 0.021998,
     "end_time": "2022-11-17T17:45:53.120752",
     "exception": false,
     "start_time": "2022-11-17T17:45:53.098754",
     "status": "completed"
    },
    "tags": []
   },
   "outputs": [],
   "source": [
    "X = df.drop(columns=['CustomerID']).values"
   ]
  },
  {
   "cell_type": "markdown",
   "id": "155b355c",
   "metadata": {},
   "source": [
    "\n",
    "    \n",
    "# <p style=\"padding:10px;background-color:#232323;margin:0;color:white;font-family:newtimeroman;font-size:100%;text-align:center;border-radius: 15px 50px;overflow:hidden;font-weight:500\">Kmeans Model</p>\n",
    "\n"
   ]
  },
  {
   "cell_type": "code",
   "execution_count": 9,
   "id": "64b34524",
   "metadata": {
    "execution": {
     "iopub.execute_input": "2022-11-17T17:45:53.146876Z",
     "iopub.status.busy": "2022-11-17T17:45:53.145705Z",
     "iopub.status.idle": "2022-11-17T17:45:53.456576Z",
     "shell.execute_reply": "2022-11-17T17:45:53.455131Z"
    },
    "papermill": {
     "duration": 0.327567,
     "end_time": "2022-11-17T17:45:53.460732",
     "exception": false,
     "start_time": "2022-11-17T17:45:53.133165",
     "status": "completed"
    },
    "tags": []
   },
   "outputs": [],
   "source": [
    "from sklearn.cluster import KMeans"
   ]
  },
  {
   "cell_type": "code",
   "execution_count": 10,
   "id": "35bc0c2b",
   "metadata": {
    "execution": {
     "iopub.execute_input": "2022-11-17T17:45:53.484241Z",
     "iopub.status.busy": "2022-11-17T17:45:53.483468Z",
     "iopub.status.idle": "2022-11-17T17:45:53.886740Z",
     "shell.execute_reply": "2022-11-17T17:45:53.884130Z"
    },
    "papermill": {
     "duration": 0.417928,
     "end_time": "2022-11-17T17:45:53.889850",
     "exception": false,
     "start_time": "2022-11-17T17:45:53.471922",
     "status": "completed"
    },
    "tags": []
   },
   "outputs": [],
   "source": [
    "wcss = []\n",
    "for i in range (1, 11):\n",
    "    kmeans = KMeans(n_clusters = i , init = \"k-means++\" , random_state = 42)\n",
    "    kmeans.fit(X)\n",
    "    wcss.append(kmeans.inertia_)"
   ]
  },
  {
   "cell_type": "markdown",
   "id": "7fe7d4ad",
   "metadata": {},
   "source": [
    "\n",
    "    \n",
    "# <p style=\"padding:10px;background-color:#232323;margin:0;color:white;font-family:newtimeroman;font-size:100%;text-align:center;border-radius: 15px 50px;overflow:hidden;font-weight:500\">Visualizing Elbow Curve</p>\n",
    "\n"
   ]
  },
  {
   "cell_type": "code",
   "execution_count": 11,
   "id": "fd890573",
   "metadata": {
    "execution": {
     "iopub.execute_input": "2022-11-17T17:45:53.912770Z",
     "iopub.status.busy": "2022-11-17T17:45:53.912236Z",
     "iopub.status.idle": "2022-11-17T17:45:54.087975Z",
     "shell.execute_reply": "2022-11-17T17:45:54.086376Z"
    },
    "papermill": {
     "duration": 0.18946,
     "end_time": "2022-11-17T17:45:54.090322",
     "exception": false,
     "start_time": "2022-11-17T17:45:53.900862",
     "status": "completed"
    },
    "scrolled": true,
    "tags": []
   },
   "outputs": [
    {
     "data": {
      "image/png": "[encoded data removed]",
      "text/plain": [
       "<Figure size 432x288 with 1 Axes>"
      ]
     },
     "metadata": {
      "needs_background": "light"
     },
     "output_type": "display_data"
    }
   ],
   "source": [
    "plt.plot(range(1, 11), wcss)\n",
    "plt.ylabel(\"WCSS\")\n",
    "plt.xlabel(\"Number of Clusters\")\n",
    "plt.title(\"Elbow Curve Method\")\n",
    "plt.show()"
   ]
  },
  {
   "cell_type": "markdown",
   "id": "61afec88",
   "metadata": {},
   "source": [
    "\n",
    "    \n",
    "# <p style=\"padding:10px;background-color:#232323;margin:0;color:white;font-family:newtimeroman;font-size:100%;text-align:center;border-radius: 15px 50px;overflow:hidden;font-weight:500\">Clustering</p>\n",
    "\n"
   ]
  },
  {
   "cell_type": "code",
   "execution_count": 12,
   "id": "97eda0ed",
   "metadata": {
    "execution": {
     "iopub.execute_input": "2022-11-17T17:45:54.112960Z",
     "iopub.status.busy": "2022-11-17T17:45:54.112424Z",
     "iopub.status.idle": "2022-11-17T17:45:54.141408Z",
     "shell.execute_reply": "2022-11-17T17:45:54.140601Z"
    },
    "papermill": {
     "duration": 0.043318,
     "end_time": "2022-11-17T17:45:54.143816",
     "exception": false,
     "start_time": "2022-11-17T17:45:54.100498",
     "status": "completed"
    },
    "tags": []
   },
   "outputs": [],
   "source": [
    "kmeans = KMeans(n_clusters = 5 , init = \"k-means++\" , random_state = 10)\n",
    "y_kmeans = kmeans.fit_predict(X)"
   ]
  },
  {
   "cell_type": "code",
   "execution_count": 13,
   "id": "1079020f",
   "metadata": {
    "execution": {
     "iopub.execute_input": "2022-11-17T17:45:54.166711Z",
     "iopub.status.busy": "2022-11-17T17:45:54.165999Z",
     "iopub.status.idle": "2022-11-17T17:45:54.434267Z",
     "shell.execute_reply": "2022-11-17T17:45:54.433402Z"
    },
    "papermill": {
     "duration": 0.281799,
     "end_time": "2022-11-17T17:45:54.436343",
     "exception": false,
     "start_time": "2022-11-17T17:45:54.154544",
     "status": "completed"
    },
    "tags": []
   },
   "outputs": [
    {
     "data": {
      "image/png": "[encoded data removed]",
      "text/plain": [
       "<Figure size 432x288 with 1 Axes>"
      ]
     },
     "metadata": {
      "needs_background": "light"
     },
     "output_type": "display_data"
    }
   ],
   "source": [
    "plt.scatter(X[y_kmeans == 0, 0], X[y_kmeans == 0, 1], s = 100, c = 'red', label = 'Cluster 1')\n",
    "plt.scatter(X[y_kmeans == 1, 0], X[y_kmeans == 1, 1], s = 100, c = 'blue', label = 'Cluster 2')\n",
    "plt.scatter(X[y_kmeans == 2, 0], X[y_kmeans == 2, 1], s = 100, c = 'green', label = 'Cluster 3')\n",
    "plt.scatter(X[y_kmeans == 3, 0], X[y_kmeans == 3, 1], s = 100, c = 'cyan', label = 'Cluster 4')\n",
    "plt.scatter(X[y_kmeans == 4, 0], X[y_kmeans == 4, 1], s = 100, c = 'purple', label = 'Cluster 5')\n",
    "plt.scatter(kmeans.cluster_centers_[:, 0], kmeans.cluster_centers_[:, 1], s = 300, c = 'yellow', label = 'Centroids')\n",
    "plt.title('Clusters of customers')\n",
    "plt.xlabel('Annual Income (k$)')\n",
    "plt.ylabel('Spending Score (1-100)')\n",
    "plt.legend()\n",
    "plt.show()"
   ]
  }
 ],
 "metadata": {
  "kernelspec": {
   "display_name": "Python 3",
   "language": "python",
   "name": "python3"
  },
  "language_info": {
   "codemirror_mode": {
    "name": "ipython",
    "version": 3
   },
   "file_extension": ".py",
   "mimetype": "text/x-python",
   "name": "python",
   "nbconvert_exporter": "python",
   "pygments_lexer": "ipython3",
   "version": "3.8.8"
  },
  "papermill": {
   "default_parameters": {},
   "duration": 12.308267,
   "end_time": "2022-11-17T17:45:55.271824",
   "environment_variables": {},
   "exception": null,
   "input_path": "__notebook__.ipynb",
   "output_path": "__notebook__.ipynb",
   "parameters": {},
   "start_time": "2022-11-17T17:45:42.963557",
   "version": "2.3.4"
  }
 },
 "nbformat": 4,
 "nbformat_minor": 5
}
